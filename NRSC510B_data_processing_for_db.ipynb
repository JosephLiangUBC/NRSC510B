{
 "cells": [
  {
   "cell_type": "code",
   "execution_count": 1,
   "id": "aaaf3cc6-37e8-43e4-a57e-d9f3d868ca68",
   "metadata": {},
   "outputs": [],
   "source": [
    "import sqlite3\n",
    "from sqlite3 import Error\n",
    "from sqlite3 import IntegrityError\n",
    "from ipyfilechooser import FileChooser\n",
    "import pandas as pd\n",
    "import io\n",
    "import requests\n",
    "import numpy\n",
    "from scipy import stats\n",
    "import math"
   ]
  },
  {
   "cell_type": "code",
   "execution_count": null,
   "id": "d047872c-f454-4b21-ae5f-fbe76ded5a3b",
   "metadata": {},
   "outputs": [],
   "source": [
    "starting_directory = '/Users/Joseph'\n",
    "chooser = FileChooser(starting_directory)\n",
    "display(chooser)"
   ]
  },
  {
   "cell_type": "code",
   "execution_count": null,
   "id": "5ad41b49-c54a-41bc-b2a4-12865e70cb27",
   "metadata": {},
   "outputs": [],
   "source": [
    "Screen='Neuron_Genes_Screen'\n",
    "file=chooser.selected\n",
    "folder_path=chooser.selected_path\n",
    "print(file)\n",
    "print(folder_path)"
   ]
  },
  {
   "cell_type": "code",
   "execution_count": null,
   "id": "8bdae795-4e5b-4371-acd2-40d77be2796a",
   "metadata": {},
   "outputs": [],
   "source": [
    "baseline_output = pd.read_csv(file, index_col=0).drop(columns=['index'])\n",
    "print(baseline_output)\n",
    "# X=baseline_output.drop(columns=['Time','n','Number','Tap','Puff','x','y','plate','dataset','Gene','Allele'])\n",
    "# print(X)"
   ]
  },
  {
   "cell_type": "code",
   "execution_count": null,
   "id": "a3581dfb-50a2-41f2-87d2-5ca53439c229",
   "metadata": {},
   "outputs": [],
   "source": [
    "tap_output = pd.read_csv(file, index_col=0)\n",
    "print(tap_output)"
   ]
  },
  {
   "cell_type": "code",
   "execution_count": null,
   "id": "5684c2d7-7f9e-4a9e-921e-3532535b2c1d",
   "metadata": {},
   "outputs": [],
   "source": [
    "# test=tap_output.dropna()\n",
    "# print(test[test.dataset=='mod-5_n822'].taps.unique())"
   ]
  },
  {
   "cell_type": "code",
   "execution_count": null,
   "id": "a9cec40a-82bb-4783-a0a9-fa6d9fcfa6d7",
   "metadata": {},
   "outputs": [],
   "source": [
    "PD_tap=tap_output\n",
    "PD_first_tap = PD_tap[(PD_tap.taps==1)].reset_index().drop(columns=\"index\")\n",
    "PD_last_three_taps = PD_tap[((PD_tap.taps>=28)&(PD_tap.taps<=30))].reset_index().drop(columns=\"index\")\n",
    "PD_recov_taps = PD_tap[(PD_tap.taps==31)].reset_index().drop(columns=\"index\")\n",
    "\n",
    "print(PD_first_tap)\n",
    "print(\"-\"*55)\n",
    "print(PD_last_three_taps)\n",
    "print(\"-\"*55)\n",
    "# print(PD_recov_taps)\n",
    "\n",
    "print(\"-\"*55)\n",
    "PD_final_taps=PD_last_three_taps.groupby([\"dataset\", \"Date\",\"Plate_id\",\"Screen\",\"Gene\",\"Allele\",\"plate\"]).mean().reset_index()\n",
    "# print(PD_final_taps)\n",
    "PD_final_taps=PD_final_taps.rename(columns={\"dura\": \"final_dura\", \"prob\": \"final_prob\", \"speed\": \"final_speed\"}, errors=\"raise\")\n",
    "\n",
    "\n",
    "print(\"PD_final_taps\")\n",
    "print(PD_final_taps)\n",
    "print(\"-\"*55)\n",
    "\n",
    "\n",
    "PD_first_tap=PD_first_tap.rename(columns={\"dura\": \"init_dura\", \"prob\": \"init_prob\", \"speed\": \"init_speed\"}, errors=\"raise\")\n",
    "# print(PD_final_taps)\n",
    "# print(PD_first_tap)\n",
    "PD_habit_levels = pd.merge(PD_first_tap, PD_final_taps, on =['dataset','plate',\"Plate_id\",\"Screen\",\"Gene\",\"Allele\",\"Date\"], how ='left')\n",
    "PD_habit_levels = PD_habit_levels.dropna()\n",
    "\n",
    "print('PD_habit_levels')\n",
    "print(PD_habit_levels)\n",
    "print(\"-\"*55)\n",
    "# print(PD_habit_levels)\n",
    "PD_habit_levels['habit_dura']=PD_habit_levels.init_dura-PD_habit_levels.final_dura\n",
    "PD_habit_levels['habit_prob']=PD_habit_levels.init_prob-PD_habit_levels.final_prob\n",
    "PD_habit_levels['habit_speed']=PD_habit_levels.init_speed-PD_habit_levels.final_speed\n",
    "# PD_habit_levels=PD_habit_levels.drop(columns=['time_x','time_y','dist_x','dist_y', 'Allele','Gene'])\n",
    "PD_habit_levels=PD_habit_levels.drop(columns=['time_x','time_y','dist_x','dist_y'])\n",
    "\n",
    "print('final version PD_habit_levels')\n",
    "print(PD_habit_levels)\n",
    "print(\"-\"*55)\n",
    "\n",
    "PD_recov_taps=PD_recov_taps.rename(columns={\"dura\": \"recov_dura\", \"prob\": \"recov_prob\", \"speed\":\"recov_speed\"})\n",
    "PD_habituation = pd.merge(PD_habit_levels, PD_recov_taps, on =['dataset','plate',\"Plate_id\",\"Screen\",\"Gene\",\"Allele\",\"Date\"], how ='left')\n",
    "\n",
    "PD_habituation = PD_habit_levels\n",
    "PD_habituation = PD_habituation.drop(columns=['taps_x','taps_y','taps','time'])\n",
    "# PD_habituation = PD_habituation.drop(columns=['taps_x','taps_y'])\n",
    "PD_habituation = PD_habituation.dropna()\n",
    "# print(PD_habituation)\n",
    "# PD_habituation['recovery_dura']=0\n",
    "# PD_habituation['recovery_prob']=0\n",
    "# PD_habituation['recovery_speed']=0\n",
    "# PD_habituation['dist']=0\n",
    "# PD_habituation['recov_prob']=0\n",
    "# PD_habituation['recov_dura']=0\n",
    "# PD_habituation['recov_speed']=0\n",
    "PD_habituation['recovery_dura']=PD_habituation.init_dura-PD_habituation.recov_dura\n",
    "PD_habituation['recovery_prob']=PD_habituation.init_prob-PD_habituation.recov_prob\n",
    "PD_habituation['recovery_speed']=PD_habituation.init_speed-PD_habituation.recov_speed\n",
    "tap_data=PD_habituation.dropna() \n",
    "tap_data=PD_habituation\n",
    "print(\"-\"*55)\n",
    "print(tap_data)\n",
    "# print(PD_recov_taps)\n",
    "# print(PD_first_tap)\n",
    "# print(PD_last_three_taps)\n",
    "print(\"-\"*55)\n",
    "# print(PD_habit_levels)"
   ]
  },
  {
   "cell_type": "markdown",
   "id": "fc7a8074-dc26-47c1-9117-32b5ec1ab227",
   "metadata": {},
   "source": [
    "### The below cell reads in file from online repository (github) - example in case this is possible in the future"
   ]
  },
  {
   "cell_type": "code",
   "execution_count": null,
   "id": "33cd988a-0fe1-48b3-9296-ec3d24c04f62",
   "metadata": {},
   "outputs": [],
   "source": [
    "# # tap_url = 'https://osf.io/du9bj/files/osfstorage/650a2f9f1e76a4230e8a99a5?raw=true'\n",
    "# tap_url='https://github.com/MyYummyPancake/NRSC510B/blob/main/tap_output.csv?raw=true'\n",
    "# # s=requests.get(tap_url).content\n",
    "# # tap_output=pd.read_csv(io.StringIO(s.decode('utf-8')))\n",
    "# tap_output=pd.read_csv(tap_url, on_bad_lines='skip', index_col=0)\n",
    "# print(tap_output)"
   ]
  },
  {
   "cell_type": "code",
   "execution_count": null,
   "id": "762927ac-9ce8-444b-aa5b-3ebda2c8e889",
   "metadata": {},
   "outputs": [],
   "source": []
  },
  {
   "cell_type": "code",
   "execution_count": null,
   "id": "a3e2bfea-63a1-4a26-8797-14757f0a2a81",
   "metadata": {},
   "outputs": [],
   "source": [
    "# print(tap_output['Gene'].unique())\n",
    "# print(len(tap_output['Gene'].unique()))\n",
    "# print(baseline_output['Gene'].unique())\n",
    "# print(len(baseline_output['Gene'].unique()))"
   ]
  },
  {
   "cell_type": "code",
   "execution_count": null,
   "id": "6c617f17-02de-41fd-ae3d-3ab7565454b1",
   "metadata": {},
   "outputs": [],
   "source": [
    "# for x in tap_output['Gene'].unique():\n",
    "#     tap_output_gene=tap_output[tap_output['Gene']==x]\n",
    "#     gene_tap_data=tap_output[tap_output['Date'].isin(tap_output_gene['Date'].unique())]\n",
    "#     gene_tap_data_final=gene_tap_data[gene_tap_data['Gene'].isin(['N2', x])]\n",
    "#     gene_tap_data_final['taps']=gene_tap_data_final['taps'].astype(int)\n",
    "\n",
    "\n",
    "# for x in baseline_output['Gene'].unique():\n",
    "#     baseline_output_gene=baseline_output[baseline_output['Gene']==x]\n",
    "#     gene_baseline_data=baseline_output[baseline_output['Date'].isin(baseline_output_gene['Date'].unique())]\n",
    "#     gene_baseline_data_final=gene_baseline_data[gene_baseline_data['Gene'].isin(['N2', x])]\n",
    "#     for a,b in zip(list_baseline_metrics, list_baseline_Tstats):\n",
    "#         TTest_Allele(x, a, baseline_output, b)\n"
   ]
  },
  {
   "cell_type": "code",
   "execution_count": null,
   "id": "2f49778f-28c4-42fa-8cec-a70569ef9c8c",
   "metadata": {},
   "outputs": [],
   "source": []
  },
  {
   "cell_type": "code",
   "execution_count": null,
   "id": "03754e95-f034-4b76-bec0-38db8d2bdd00",
   "metadata": {},
   "outputs": [],
   "source": []
  },
  {
   "cell_type": "code",
   "execution_count": null,
   "id": "cf79ef13-4d33-44dc-ac52-bdb776b5c5da",
   "metadata": {},
   "outputs": [],
   "source": []
  },
  {
   "cell_type": "markdown",
   "id": "74308e12-a414-4899-b18f-ed97d006930d",
   "metadata": {},
   "source": [
    "# Run Statistics (T-Test and sample-mean distance) on Data"
   ]
  },
  {
   "cell_type": "code",
   "execution_count": 2,
   "id": "b8e417ec-dd90-4855-b71f-11d83cbf75df",
   "metadata": {},
   "outputs": [],
   "source": [
    "import pingouin as pg\n",
    "from pingouin import ttest\n",
    "from scipy.stats import ttest_ind\n",
    "import tqdm"
   ]
  },
  {
   "cell_type": "code",
   "execution_count": null,
   "id": "c8603706-af3a-4596-bc65-320c51e086de",
   "metadata": {},
   "outputs": [],
   "source": [
    "# print(baseline_output)"
   ]
  },
  {
   "cell_type": "markdown",
   "id": "e867fef6-9b3c-4591-9755-534e26701b2d",
   "metadata": {},
   "source": [
    "## Sample Mean Distance & Confidence Interval Calculation of Baseline Data\n",
    "1. Calculate Mean\n",
    "\n",
    "2. Calculate SEM\n",
    "\n",
    "3. Calculate CI\n",
    "\n",
    "4. Calculate Mean Distance From Control"
   ]
  },
  {
   "cell_type": "code",
   "execution_count": null,
   "id": "a5eeba2f-d290-4781-8a36-ca31118a2889",
   "metadata": {},
   "outputs": [],
   "source": [
    "print(tap_data.columns)"
   ]
  },
  {
   "cell_type": "code",
   "execution_count": null,
   "id": "dd76fdc5-2356-4617-8c2c-29e1685808bd",
   "metadata": {},
   "outputs": [],
   "source": [
    "baseline_output_byplate=baseline_output.groupby(by=['Plate_id',\n",
    "                                                    'Date',\n",
    "                                                    'Screen',\n",
    "                                                    'dataset',\n",
    "                                                    'Gene',\n",
    "                                                    'Allele'],as_index=False).mean().drop(columns=['Plate_id',\n",
    "                                                                                                    'n',\n",
    "                                                                                                    'Number',\n",
    "                                                                                                   'Date',\n",
    "                                                                                                    'Time',\n",
    "                                                                                                    'Screen',\n",
    "                                                                                                    'dataset',\n",
    "                                                                                                    'Allele'])\n",
    "print(baseline_output_byplate)\n",
    "print('-'*30)\n",
    "print(baseline_output_byplate.columns[1:])\n",
    "# print(baseline_output_byplate[['Gene','Instantaneous Speed']].copy())\n",
    "\n",
    "print('-'*30)\n",
    "tap_data_byplate=tap_data.groupby(by=['Plate_id',\n",
    "                                    'Date',\n",
    "                                    'Screen',\n",
    "                                    'dataset',\n",
    "                                    'Gene',\n",
    "                                    'Allele'],as_index=False).mean().drop(columns=['Plate_id',\n",
    "                                                                                    'Screen',\n",
    "                                                                                    'dataset',\n",
    "                                                                                    'Allele',\n",
    "                                                                                   'Date',\n",
    "                                                                                    'dist',\n",
    "                                                                                    'plate',\n",
    "                                                                                    'recov_dura',\n",
    "                                                                                    'recov_prob',\n",
    "                                                                                    'recov_speed'])\n",
    "\n",
    "\n",
    "print(tap_data_byplate)\n",
    "print('-'*30)\n",
    "print(tap_data_byplate.columns)\n",
    "print('-'*50)\n",
    "\n",
    "print(\"allele output\")\n",
    "print('-'*50)\n",
    "baseline_output_allele_byplate=baseline_output.groupby(by=['Plate_id',\n",
    "                                                            'Date',\n",
    "                                                            'Screen',\n",
    "                                                            'dataset',\n",
    "                                                            'Gene',\n",
    "                                                            'Allele'],as_index=False).mean().drop(columns=['Plate_id',\n",
    "                                                                                                            'n',\n",
    "                                                                                                            'Number',\n",
    "                                                                                                            'Time',\n",
    "                                                                                                            'Screen',\n",
    "                                                                                                           'Date',\n",
    "                                                                                                            'Gene',\n",
    "                                                                                                            'Allele'])\n",
    "print(baseline_output_allele_byplate)\n",
    "print('-'*50)\n",
    "print(baseline_output_allele_byplate.columns)\n",
    "# print(baseline_output_byplate[['Gene','Instantaneous Speed']].copy())\n",
    "\n",
    "print('-'*50)\n",
    "tap_data_allele_byplate=tap_data.groupby(by=['Plate_id',\n",
    "                                            'Date',\n",
    "                                            'Screen',\n",
    "                                            'dataset',\n",
    "                                            'Gene',\n",
    "                                            'Allele'],as_index=False).mean().drop(columns=['Plate_id',\n",
    "                                                                                            'Screen',\n",
    "                                                                                            'Gene',\n",
    "                                                                                           'Date',\n",
    "                                                                                            'Allele',\n",
    "                                                                                            'dist',\n",
    "                                                                                            'plate',\n",
    "                                                                                            'recov_dura',\n",
    "                                                                                            'recov_prob',\n",
    "                                                                                            'recov_speed'])\n",
    "\n",
    "\n",
    "print(tap_data_allele_byplate)\n",
    "print('-'*50)\n",
    "print(tap_data_allele_byplate.columns)"
   ]
  },
  {
   "cell_type": "code",
   "execution_count": null,
   "id": "8304d782-9424-4068-a3f4-4982b1be21fd",
   "metadata": {},
   "outputs": [],
   "source": [
    "# print(tap_data_allele_byplate[tap_data_allele_byplate.dataset=='N2_XJ1'])"
   ]
  },
  {
   "cell_type": "code",
   "execution_count": null,
   "id": "10502cca-0ab9-4bd5-9801-7a247a6af822",
   "metadata": {},
   "outputs": [],
   "source": [
    "''' \n",
    "input: one pd.DataFrame with multiple columns (1st column is the index, the other are phenotypes)\n",
    "return: list of pd.DataFrame, each DataFrame with 2 columns: index and 1 phenotype, \n",
    "        for how many phenotypes there are in the input\n",
    "'''\n",
    "def extract_phenotypes(df):\n",
    "    list_phenotypes_df = []\n",
    "    phenotypes = df.columns[1:]\n",
    "    index = df.columns[0]\n",
    "    for i in phenotypes:\n",
    "        new_df = df[[index, i]].copy()\n",
    "        list_phenotypes_df.append(new_df)\n",
    "    return list_phenotypes_df\n",
    "\n",
    "\n",
    "''' \n",
    "input: one pd.DataFrame with multiple columns (1st column is the index, the other are phenotypes)\n",
    "return: list of pd.DataFrame, each DataFrame with 2 columns: index and 1 phenotype, \n",
    "        for how many phenotypes there are in the input\n",
    "'''\n",
    "def extract_allele_phenotypes(df):\n",
    "    list_phenotypes_df = []\n",
    "    phenotypes = df.columns[1:]\n",
    "    index = df.columns[0]\n",
    "    for i in phenotypes:\n",
    "        new_df = df[[index, i]].copy()\n",
    "        list_phenotypes_df.append(new_df)\n",
    "    return list_phenotypes_df\n",
    "\n",
    "\n",
    "\n",
    "\n",
    "'''\n",
    "input: list of dataframes with 2 columns (1st one is index, 2nd one are indiviudal phenotypes)\n",
    "        output from extract_phenotypes function\n",
    "\n",
    "output: the same list of dataframes with additional calculated columns for:\n",
    "                1. mean\n",
    "                2. count\n",
    "                3. std\n",
    "                4. ci95_hi\n",
    "                5. ci95_low\n",
    "                6. ci95\n",
    "'''\n",
    "        # baseline_output_gene=baseline_output[baseline_output['dataset']==x]\n",
    "        # gene_baseline_data=baseline_output[baseline_output['Date'].isin(baseline_output_gene['Date'].unique())]\n",
    "        # gene_baseline_data_final=gene_baseline_data[gene_baseline_data['dataset'].isin(['N2', x])]\n",
    "\n",
    "def calculate_MSD(list_of_dfs):\n",
    "    new_list_of_dfs=[]\n",
    "    for i in list_of_dfs:\n",
    "        calculate_1= i.groupby(by=['Gene'], as_index=False).agg(['mean', 'count', 'sem'])\n",
    "        calculate_2= ci95(calculate_1)\n",
    "        N2_data = calculate_2[calculate_2.index=='N2']\n",
    "        calculate_2.iloc[:,0] = calculate_2.iloc[:,0]-N2_data.iloc[0,0]\n",
    "        calculate_2.iloc[:,3] = calculate_2.iloc[:,3]-N2_data.iloc[0,0]\n",
    "        calculate_2.iloc[:,4] = calculate_2.iloc[:,4]-N2_data.iloc[0,0]\n",
    "      \n",
    "        \n",
    "        # calculate_2.columns=['_'.join(col) for col in calculate_2.columns.values]\n",
    "        new_list_of_dfs.append(calculate_2)\n",
    "    return new_list_of_dfs\n",
    "    \n",
    "\n",
    "\n",
    "'''\n",
    "input: df of 4 columns: index, mean, count, std\n",
    "\n",
    "output: df of 6 columns: index, mean, count, std, ci95_hi, ci95_low\n",
    "\n",
    "'''\n",
    "def ci95(df):\n",
    "    for metric in df.columns.levels[0]:\n",
    "        if metric == 'Gene':\n",
    "            pass\n",
    "        else:\n",
    "            ci95_hi = []\n",
    "            ci95_lo = []\n",
    "            for i in df[metric].index:\n",
    "                m, c, s = df[metric].loc[i]\n",
    "                ci95_hi.append(stats.t.interval(confidence=0.95, df=c-1, loc=m, scale=s)[1])\n",
    "                ci95_lo.append(stats.t.interval(confidence=0.95, df=c-1, loc=m, scale=s)[0])\n",
    "            df[metric,'ci95_hi'] = ci95_hi\n",
    "            df[metric,'ci95_lo'] = ci95_lo\n",
    "            # df[metric,'ci95']=list(zip(ci95_lo,ci95_hi))\n",
    "    return df\n",
    "\n",
    "\n",
    "\n",
    "'''\n",
    "input: list of dataframes with 2 columns (1st one is index, 2nd one are indiviudal phenotypes)\n",
    "        output from extract_phenotypes function\n",
    "\n",
    "output: the same list of dataframes with additional calculated columns for:\n",
    "                1. mean\n",
    "                2. count\n",
    "                3. std\n",
    "                4. ci95_hi\n",
    "                5. ci95_low\n",
    "                6. ci95\n",
    "'''\n",
    "        # baseline_output_gene=baseline_output[baseline_output['dataset']==x]\n",
    "        # gene_baseline_data=baseline_output[baseline_output['Date'].isin(baseline_output_gene['Date'].unique())]\n",
    "        # gene_baseline_data_final=gene_baseline_data[gene_baseline_data['dataset'].isin(['N2', x])]\n",
    "\n",
    "def calculate_allele_MSD(list_of_dfs):\n",
    "    new_list_of_dfs=[]\n",
    "    for i in list_of_dfs:\n",
    "        calculate_1= i.groupby(by=['dataset'], as_index=False).agg(['mean', 'count', 'sem'])\n",
    "        calculate_2= ci95_allele(calculate_1)\n",
    "        N2_data = calculate_2[calculate_2.index=='N2_XJ1']\n",
    "        calculate_2.iloc[:,0] = calculate_2.iloc[:,0]-N2_data.iloc[0,0]\n",
    "        calculate_2.iloc[:,3] = calculate_2.iloc[:,3]-N2_data.iloc[0,0]\n",
    "        calculate_2.iloc[:,4] = calculate_2.iloc[:,4]-N2_data.iloc[0,0]\n",
    "        # calculate_2.columns=['_'.join(col) for col in calculate_2.columns.values]\n",
    "        new_list_of_dfs.append(calculate_2)\n",
    "    return new_list_of_dfs\n",
    "    \n",
    "        \n",
    "'''\n",
    "input: df of 4 columns: index, mean, count, std\n",
    "\n",
    "output: df of 6 columns: index, mean, count, std, ci95_hi, ci95_low\n",
    "\n",
    "'''\n",
    "def ci95_allele(df):\n",
    "    for metric in df.columns.levels[0]:\n",
    "        if metric == 'dataset':\n",
    "            pass\n",
    "        else:\n",
    "            ci95_hi = []\n",
    "            ci95_lo = []\n",
    "            for i in df[metric].index:\n",
    "                m, c, s = df[metric].loc[i]\n",
    "                ci95_hi.append(stats.t.interval(confidence=0.95, df=c-1, loc=m, scale=s)[1])\n",
    "                ci95_lo.append(stats.t.interval(confidence=0.95, df=c-1, loc=m, scale=s)[0])\n",
    "            df[metric,'ci95_hi'] = ci95_hi\n",
    "            df[metric,'ci95_lo'] = ci95_lo\n",
    "            # df[metric,'ci95']=list(zip(ci95_lo,ci95_hi))\n",
    "    return df\n",
    "\n"
   ]
  },
  {
   "cell_type": "code",
   "execution_count": null,
   "id": "1fc7e03c-de00-436d-b9f0-fcaf1063188b",
   "metadata": {},
   "outputs": [],
   "source": [
    "# test1 = extract_phenotypes(baseline_output_byplate)\n",
    "# print(test1)\n",
    "list_baseline_MSD=calculate_MSD(extract_phenotypes(baseline_output_byplate))\n",
    "print(list_baseline_MSD)\n",
    "# test2 = extract_phenotypes(tap_data_byplate)\n",
    "# print(test2)\n",
    "list_tap_MSD=calculate_MSD(extract_phenotypes(tap_data_byplate))\n",
    "print(list_tap_MSD)"
   ]
  },
  {
   "cell_type": "code",
   "execution_count": null,
   "id": "8e77ef7a-0c58-424a-ab6b-3008aa9c92c1",
   "metadata": {},
   "outputs": [],
   "source": [
    "for a in list_baseline_MSD:\n",
    "    # b=a.groupby(['Gene'], as_index=False).mean()\n",
    "    # print(a.columns.values[1])\n",
    "    if a.columns.levels[0] == list_baseline_MSD[0].columns.levels[0]:\n",
    "        baseline_MSD=a\n",
    "    else:\n",
    "        baseline_MSD=baseline_MSD.join(a)\n",
    "\n",
    "for a in list_tap_MSD:\n",
    "    # b=a.groupby(['Gene'], as_index=False).mean()\n",
    "    # print(a.columns.values[1])\n",
    "    if a.columns.levels[0] == list_tap_MSD[0].columns.levels[0]:\n",
    "        tap_MSD=a\n",
    "    else:\n",
    "        tap_MSD=tap_MSD.join(a)"
   ]
  },
  {
   "cell_type": "code",
   "execution_count": null,
   "id": "cff9b3b8-f2cd-4562-b17f-f8c6c446086f",
   "metadata": {},
   "outputs": [],
   "source": [
    "print(baseline_MSD.columns.levels[0])\n",
    "print(\"-\"*30)\n",
    "print(tap_MSD.columns.levels[0])"
   ]
  },
  {
   "cell_type": "code",
   "execution_count": null,
   "id": "a7256140-6cee-4717-8b86-5263e6748971",
   "metadata": {},
   "outputs": [],
   "source": [
    "test_df=list_baseline_MSD[-1]\n",
    "# test_df['Crab']\n",
    "test_df.columns.levels[0]"
   ]
  },
  {
   "cell_type": "code",
   "execution_count": null,
   "id": "f26e6087-8576-4e49-b350-59491a231718",
   "metadata": {},
   "outputs": [],
   "source": [
    "combined_MSD = baseline_MSD.join(tap_MSD, on='Gene')\n",
    "print(combined_MSD.columns.levels[0])\n"
   ]
  },
  {
   "cell_type": "code",
   "execution_count": null,
   "id": "5bcdfea7-eb0a-4e8a-9a24-33212ce25c30",
   "metadata": {},
   "outputs": [],
   "source": [
    "combined_MSD=combined_MSD.rename(columns={\"habit_dura\":\"Habituation of Response Duration\",\n",
    "                                         \"habit_prob\": \"Habituation of Respones Probability\",\n",
    "                                         \"habit_speed\":\"Habituation of Response Speed\",\n",
    "                                         \"init_dura\": \"Initial Response Duration\",\n",
    "                                         \"init_prob\": \"Initial Response Probability\",\n",
    "                                         \"init_speed\": \"Initial Response Speed\",\n",
    "                                         \"final_dura\": \"Final Response Duration\",\n",
    "                                         \"final_prob\": \"Final Response Probability\",\n",
    "                                         \"final_speed\": \"Final Response Speed\",\n",
    "                                         \"recovery_dura\": \"Spontaneous Recovery of Response Duration\",\n",
    "                                         \"recovery_prob\": \"Spontaneous Recovery of Response Probability\",\n",
    "                                         \"recovery_speed\": \"Spontaneous Recovery of Response Speed\"})\n",
    "print(combined_MSD.columns.levels[0])\n",
    "print(len(combined_MSD.columns.levels[0]))"
   ]
  },
  {
   "cell_type": "code",
   "execution_count": null,
   "id": "c83136c9-ee5b-463b-ad39-0e5403199cd5",
   "metadata": {},
   "outputs": [],
   "source": [
    "combined_MSD=combined_MSD.reset_index()\n",
    "combined_MSD.columns = combined_MSD.columns.to_flat_index().str.join('-')\n",
    "combined_MSD=combined_MSD.rename(columns={\"Gene-\": \"Gene\"})\n",
    "combined_MSD['Screen']=Screen\n",
    "print(combined_MSD)"
   ]
  },
  {
   "cell_type": "markdown",
   "id": "18e39002-cc71-4b7e-8404-6fd5d9eaccef",
   "metadata": {},
   "source": [
    "## Allele-level SMD"
   ]
  },
  {
   "cell_type": "code",
   "execution_count": null,
   "id": "167044c8-add0-4301-a0e8-e76f7ed289ce",
   "metadata": {},
   "outputs": [],
   "source": [
    "print(baseline_output_allele_byplate[baseline_output_allele_byplate.dataset=='N2_XJ1'])\n",
    "print(tap_data_allele_byplate[tap_data_allele_byplate.dataset=='N2_N2'])"
   ]
  },
  {
   "cell_type": "code",
   "execution_count": null,
   "id": "dff3dfa0-942c-4213-801f-201d0f1ce035",
   "metadata": {},
   "outputs": [],
   "source": [
    "# test1=extract_allele_phenotypes(baseline_output_allele_byplate)\n",
    "# print(test1)\n",
    "list_allele_baseline_MSD=calculate_allele_MSD(extract_allele_phenotypes(baseline_output_allele_byplate))\n",
    "print(list_allele_baseline_MSD)\n",
    "\n",
    "# test2=extract_allele_phenotypes(tap_data_allele_byplate)\n",
    "# print(test2[0][test2[0].dataset=='N2_N2'])\n",
    "list_allele_tap_MSD=calculate_allele_MSD(extract_allele_phenotypes(tap_data_allele_byplate))\n",
    "print(list_allele_tap_MSD)"
   ]
  },
  {
   "cell_type": "code",
   "execution_count": null,
   "id": "fc3efb1d-2dc5-4451-8969-48ac780c9395",
   "metadata": {},
   "outputs": [],
   "source": [
    "for a in list_allele_baseline_MSD:\n",
    "    # b=a.groupby(['Gene'], as_index=False).mean()\n",
    "    # print(a.columns.values[1])\n",
    "    if a.columns.levels[0] == list_allele_baseline_MSD[0].columns.levels[0]:\n",
    "        allele_baseline_MSD=a\n",
    "    else:\n",
    "        allele_baseline_MSD=allele_baseline_MSD.join(a)\n",
    "\n",
    "for a in list_allele_tap_MSD:\n",
    "    # b=a.groupby(['Gene'], as_index=False).mean()\n",
    "    # print(a.columns.values[1])\n",
    "    if a.columns.levels[0] == list_allele_tap_MSD[0].columns.levels[0]:\n",
    "        allele_tap_MSD=a\n",
    "    else:\n",
    "        allele_tap_MSD=allele_tap_MSD.join(a)"
   ]
  },
  {
   "cell_type": "code",
   "execution_count": null,
   "id": "e80ccd78-c5db-4e4d-987a-b7cd148d795e",
   "metadata": {},
   "outputs": [],
   "source": [
    "print(allele_baseline_MSD.columns.levels[0])\n",
    "print(\"-\"*30)\n",
    "print(allele_tap_MSD.columns.levels[0])"
   ]
  },
  {
   "cell_type": "code",
   "execution_count": null,
   "id": "b733fd0a-041d-442c-b895-43a566a1b17a",
   "metadata": {},
   "outputs": [],
   "source": []
  },
  {
   "cell_type": "code",
   "execution_count": null,
   "id": "eecea70c-634e-4069-8dc1-fcb32a9900c1",
   "metadata": {},
   "outputs": [],
   "source": [
    "allele_combined_MSD = allele_baseline_MSD.join(allele_tap_MSD, on='dataset')\n",
    "print(allele_combined_MSD.columns.levels[0])\n"
   ]
  },
  {
   "cell_type": "code",
   "execution_count": null,
   "id": "6020d04d-07b5-4420-8a5f-884c67ef4146",
   "metadata": {},
   "outputs": [],
   "source": [
    "allele_combined_MSD=allele_combined_MSD.rename(columns={\"habit_dura\":\"Habituation of Response Duration\",\n",
    "                                                         \"habit_prob\": \"Habituation of Respones Probability\",\n",
    "                                                         \"habit_speed\":\"Habituation of Response Speed\",\n",
    "                                                         \"init_dura\": \"Initial Response Duration\",\n",
    "                                                         \"init_prob\": \"Initial Response Probability\",\n",
    "                                                         \"init_speed\": \"Initial Response Speed\",\n",
    "                                                         \"final_dura\": \"Final Response Duration\",\n",
    "                                                         \"final_prob\": \"Final Response Probability\",\n",
    "                                                         \"final_speed\": \"Final Response Speed\",\n",
    "                                                         \"recovery_dura\": \"Spontaneous Recovery of Response Duration\",\n",
    "                                                         \"recovery_prob\": \"Spontaneous Recovery of Response Probability\",\n",
    "                                                         \"recovery_speed\": \"Spontaneous Recovery of Response Speed\"})\n",
    "print(allele_combined_MSD.columns.levels[0])\n",
    "print(len(allele_combined_MSD.columns.levels[0]))"
   ]
  },
  {
   "cell_type": "code",
   "execution_count": null,
   "id": "6657aae5-3713-4240-95a5-dfca119d6199",
   "metadata": {},
   "outputs": [],
   "source": [
    "allele_combined_MSD=allele_combined_MSD.reset_index()\n",
    "allele_combined_MSD.columns = allele_combined_MSD.columns.to_flat_index().str.join('-')\n",
    "allele_combined_MSD=allele_combined_MSD.rename(columns={\"dataset-\": \"dataset\"})\n",
    "allele_combined_MSD['Screen']=Screen\n",
    "print(allele_combined_MSD)"
   ]
  },
  {
   "cell_type": "code",
   "execution_count": null,
   "id": "ff34bdf6-0f9a-42d5-9df1-51f28a6ee777",
   "metadata": {},
   "outputs": [],
   "source": []
  },
  {
   "cell_type": "code",
   "execution_count": null,
   "id": "9d136092-c389-4762-bfb4-c2d378a43bdf",
   "metadata": {},
   "outputs": [],
   "source": []
  },
  {
   "cell_type": "code",
   "execution_count": null,
   "id": "449c8711-858c-48af-b259-66546f8755cc",
   "metadata": {},
   "outputs": [],
   "source": []
  },
  {
   "cell_type": "code",
   "execution_count": null,
   "id": "8f575a47-8b29-404a-9147-203d21aec5a9",
   "metadata": {},
   "outputs": [],
   "source": []
  },
  {
   "cell_type": "markdown",
   "id": "b5784896-b993-4ecb-9ae9-c168d7469d90",
   "metadata": {},
   "source": [
    "### Allele-level T-stat analysis of baseline data"
   ]
  },
  {
   "cell_type": "code",
   "execution_count": null,
   "id": "827bd865-1ee0-4c89-b7ec-bf079f7688ef",
   "metadata": {},
   "outputs": [],
   "source": [
    "list=baseline_output[\"dataset\"].unique()\n",
    "print(list)\n",
    "print(len(list))\n",
    "print(baseline_output)"
   ]
  },
  {
   "cell_type": "code",
   "execution_count": null,
   "id": "e62abf35-b324-4b96-9328-91df56e05470",
   "metadata": {},
   "outputs": [],
   "source": [
    "def TTest_Allele(Type, DF_ref, output):\n",
    "    for a in DF_ref['dataset'].unique():\n",
    "        # Tstat=ttest_ind(DF_ref[DF_ref.dataset == a][Type], DF_ref[DF_ref.Allele == \"XJ1\" or DF_ref.Allele == \"N2\"][Type],equal_var=False)[0]\n",
    "        Tstat=ttest_ind(DF_ref[DF_ref.dataset == a][Type], DF_ref[DF_ref.Allele.isin([\"XJ1\",\"N2\"])][Type],equal_var=False)[0]\n",
    "        row=[a, Tstat]\n",
    "        output.loc[len(output)]=row\n",
    "    print(output)"
   ]
  },
  {
   "cell_type": "code",
   "execution_count": null,
   "id": "cc477df9-91aa-41d6-a527-c61d20f99fde",
   "metadata": {},
   "outputs": [],
   "source": [
    "PD_baseline_instantspeed_T_allele=pd.DataFrame(columns = [\"dataset\",\"Instantaneous Speed\"])\n",
    "PD_baseline_intspeed_T_allele=pd.DataFrame(columns = [\"dataset\",\"Interval Speed\"])\n",
    "PD_baseline_bias_T_allele=pd.DataFrame(columns = [\"dataset\",\"Bias\"])\n",
    "PD_baseline_width_T_allele=pd.DataFrame(columns = [\"dataset\",\"Width\"])\n",
    "PD_baseline_length_T_allele=pd.DataFrame(columns = [\"dataset\",\"Length\"])\n",
    "PD_baseline_area_T_allele=pd.DataFrame(columns = [\"dataset\",\"Area\"])\n",
    "PD_baseline_angularspeed_T_allele=pd.DataFrame(columns = [\"dataset\",\"Angular Speed\"])\n",
    "PD_baseline_aspectratio_T_allele=pd.DataFrame(columns = [\"dataset\",\"Aspect Ratio\"])\n",
    "PD_baseline_kink_T_allele=pd.DataFrame(columns = [\"dataset\",\"Kink\"])\n",
    "PD_baseline_curve_T_allele=pd.DataFrame(columns = [\"dataset\",\"Curve\"])\n",
    "PD_baseline_crab_T_allele=pd.DataFrame(columns = [\"dataset\",\"Crab\"])\n",
    "\n",
    "list_baseline_Tstats_allele=[PD_baseline_instantspeed_T_allele,\n",
    "                      PD_baseline_intspeed_T_allele,\n",
    "                      PD_baseline_bias_T_allele,\n",
    "                      PD_baseline_width_T_allele,\n",
    "                      PD_baseline_length_T_allele,\n",
    "                      PD_baseline_area_T_allele,\n",
    "                      PD_baseline_angularspeed_T_allele,\n",
    "                      PD_baseline_aspectratio_T_allele,\n",
    "                      PD_baseline_kink_T_allele,\n",
    "                      PD_baseline_curve_T_allele,\n",
    "                      PD_baseline_crab_T_allele]\n",
    "\n",
    "list_baseline_metrics=[\"Instantaneous Speed\",\n",
    "                       \"Interval Speed\",\n",
    "                       \"Bias\",\n",
    "                       \"Width\",\n",
    "                       \"Length\",\n",
    "                       \"Area\",\n",
    "                       \"Angular Speed\",\n",
    "                       \"Aspect Ratio\",\n",
    "                       \"Kink\",\n",
    "                       \"Curve\",\n",
    "                       \"Crab\"]\n"
   ]
  },
  {
   "cell_type": "code",
   "execution_count": null,
   "id": "b91e9cb8-ac8c-4fb1-a687-4e6017d3c296",
   "metadata": {},
   "outputs": [],
   "source": [
    "import tqdm\n",
    "for x in baseline_output['dataset'].unique():\n",
    "    # if x == \"N2_XJ1\" or x == \"N2_N2\":\n",
    "    if x == \"N2\":\n",
    "        pass\n",
    "    else:\n",
    "        baseline_output_gene=baseline_output[baseline_output['dataset']==x]\n",
    "        gene_baseline_data=baseline_output[baseline_output['Date'].isin(baseline_output_gene['Date'].unique())]\n",
    "        gene_baseline_data_final=gene_baseline_data[gene_baseline_data['dataset'].isin(['N2',x])]\n",
    "        # gene_baseline_data_final=gene_baseline_data[gene_baseline_data['dataset'].isin(['N2_XJ1', 'N2_N2',x])]\n",
    "        # print(gene_baseline_data_final['Gene'].unique())\n",
    "        for a,b in zip(list_baseline_metrics, list_baseline_Tstats_allele):\n",
    "            TTest_Allele(a, gene_baseline_data_final, b)"
   ]
  },
  {
   "cell_type": "code",
   "execution_count": null,
   "id": "1e2655b3-5fe2-4d9d-b16c-ea50f807911c",
   "metadata": {},
   "outputs": [],
   "source": [
    "PD_baseline_Tstats_allele=pd.DataFrame()\n",
    "for a in list_baseline_Tstats_allele:\n",
    "    b=a.groupby(['dataset'], as_index=False).mean()\n",
    "    # print(a.columns.values[1])\n",
    "    if b.columns.values[1] == list_baseline_Tstats_allele[0].columns.values[1]:\n",
    "        PD_baseline_Tstats_allele=b\n",
    "    else:\n",
    "        PD_baseline_Tstats_allele=PD_baseline_Tstats_allele.join(b.iloc[:,1])\n",
    "        \n",
    "print(PD_baseline_Tstats_allele)"
   ]
  },
  {
   "cell_type": "code",
   "execution_count": null,
   "id": "8bcd6102-56f2-4638-a988-207d59fbf4b2",
   "metadata": {},
   "outputs": [],
   "source": [
    "PD_baseline_Tstats_allele=PD_baseline_Tstats_allele.set_index(\"dataset\")\n",
    "print(PD_baseline_Tstats_allele)\n",
    "PD_baseline_Tstats_allele_sort=PD_baseline_Tstats_allele.sort_index()\n",
    "print(PD_baseline_Tstats_allele_sort)"
   ]
  },
  {
   "cell_type": "markdown",
   "id": "d8b6e5cc-a2b0-4fd8-9bc4-668b1cc22d5e",
   "metadata": {},
   "source": [
    "### Gene-level T-stat analysis of baseline data"
   ]
  },
  {
   "cell_type": "code",
   "execution_count": null,
   "id": "9f2c5731-43cb-4b21-991c-15e85684c817",
   "metadata": {},
   "outputs": [],
   "source": [
    "def TTest_Gene(Type, DF_ref, output):\n",
    "    for a in DF_ref['Gene'].unique():\n",
    "        Tstat=ttest_ind(DF_ref[DF_ref.Gene == a][Type], DF_ref[DF_ref.Gene == \"N2\"][Type],equal_var=False)[0]\n",
    "        row=[a, Tstat]\n",
    "        output.loc[len(output)]=row\n",
    "    print(output)"
   ]
  },
  {
   "cell_type": "code",
   "execution_count": null,
   "id": "803ea9e3-1121-4b1c-ac15-77bcef16cd1e",
   "metadata": {},
   "outputs": [],
   "source": [
    "PD_baseline_instantspeed_T=pd.DataFrame(columns = [\"Gene\",\"Instantaneous Speed\"])\n",
    "PD_baseline_intspeed_T=pd.DataFrame(columns = [\"Gene\",\"Interval Speed\"])\n",
    "PD_baseline_bias_T=pd.DataFrame(columns = [\"Gene\",\"Bias\"])\n",
    "PD_baseline_width_T=pd.DataFrame(columns = [\"Gene\",\"Width\"])\n",
    "PD_baseline_length_T=pd.DataFrame(columns = [\"Gene\",\"Length\"])\n",
    "PD_baseline_area_T=pd.DataFrame(columns = [\"Gene\",\"Area\"])\n",
    "PD_baseline_angularspeed_T=pd.DataFrame(columns = [\"Gene\",\"Angular Speed\"])\n",
    "PD_baseline_aspectratio_T=pd.DataFrame(columns = [\"Gene\",\"Aspect Ratio\"])\n",
    "PD_baseline_kink_T=pd.DataFrame(columns = [\"Gene\",\"Kink\"])\n",
    "PD_baseline_curve_T=pd.DataFrame(columns = [\"Gene\",\"Curve\"])\n",
    "PD_baseline_crab_T=pd.DataFrame(columns = [\"Gene\",\"Crab\"])\n",
    "\n",
    "list_baseline_Tstats=[PD_baseline_instantspeed_T,\n",
    "                      PD_baseline_intspeed_T,\n",
    "                      PD_baseline_bias_T,\n",
    "                      PD_baseline_width_T,\n",
    "                      PD_baseline_length_T,\n",
    "                      PD_baseline_area_T,\n",
    "                      PD_baseline_angularspeed_T,\n",
    "                      PD_baseline_aspectratio_T,\n",
    "                      PD_baseline_kink_T,\n",
    "                      PD_baseline_curve_T,\n",
    "                      PD_baseline_crab_T]\n",
    "\n",
    "list_baseline_metrics=[\"Instantaneous Speed\",\n",
    "                       \"Interval Speed\",\n",
    "                       \"Bias\",\n",
    "                       \"Width\",\n",
    "                       \"Length\",\n",
    "                       \"Area\",\n",
    "                       \"Angular Speed\",\n",
    "                       \"Aspect Ratio\",\n",
    "                       \"Kink\",\n",
    "                       \"Curve\",\n",
    "                       \"Crab\"]"
   ]
  },
  {
   "cell_type": "code",
   "execution_count": null,
   "id": "bfea2d84-fe76-4f97-b0fd-e17e3311cd73",
   "metadata": {},
   "outputs": [],
   "source": [
    "for x in baseline_output['Gene'].unique():\n",
    "    if x == \"N2\":\n",
    "        pass\n",
    "    else:\n",
    "        baseline_output_gene=baseline_output[baseline_output['Gene']==x]\n",
    "        gene_baseline_data=baseline_output[baseline_output['Date'].isin(baseline_output_gene['Date'].unique())]\n",
    "        gene_baseline_data_final=gene_baseline_data[gene_baseline_data['Gene'].isin(['N2', x])]\n",
    "        # print(gene_baseline_data_final['Gene'].unique())\n",
    "        for a,b in zip(list_baseline_metrics, list_baseline_Tstats):\n",
    "            TTest_Gene(a, gene_baseline_data_final, b)\n",
    "            "
   ]
  },
  {
   "cell_type": "code",
   "execution_count": null,
   "id": "a01becf6-c0f6-444a-b9dc-378e14621b4a",
   "metadata": {},
   "outputs": [],
   "source": [
    "PD_baseline_Tstats=pd.DataFrame()\n",
    "for a in list_baseline_Tstats:\n",
    "    b=a.groupby(['Gene'], as_index=False).mean()\n",
    "    # print(a.columns.values[1])\n",
    "    if b.columns.values[1] == list_baseline_Tstats[0].columns.values[1]:\n",
    "        PD_baseline_Tstats=b\n",
    "    else:\n",
    "        PD_baseline_Tstats=PD_baseline_Tstats.join(b.iloc[:,1])\n",
    "        \n",
    "print(PD_baseline_Tstats)"
   ]
  },
  {
   "cell_type": "code",
   "execution_count": null,
   "id": "f3fce379-93d5-4234-9348-6e51862a284e",
   "metadata": {},
   "outputs": [],
   "source": [
    "PD_baseline_Tstats=PD_baseline_Tstats.set_index(\"Gene\")\n",
    "print(PD_baseline_Tstats)\n",
    "PD_baseline_Tstats_sort=PD_baseline_Tstats.sort_index()\n",
    "print(PD_baseline_Tstats_sort)"
   ]
  },
  {
   "cell_type": "markdown",
   "id": "80323af7-e75f-4678-b5dd-810a7607fc83",
   "metadata": {},
   "source": [
    "### T-stat analysis for tap-response data"
   ]
  },
  {
   "cell_type": "code",
   "execution_count": null,
   "id": "2906984d-b3a7-40d2-856b-5ca4672d629f",
   "metadata": {},
   "outputs": [],
   "source": [
    "# PD_tap=tap_output\n",
    "# PD_first_tap = PD_tap[(PD_tap.taps==1)].reset_index().drop(columns=\"index\")\n",
    "# PD_last_three_taps = PD_tap[((PD_tap.taps>=28)&(PD_tap.taps<=30))].reset_index().drop(columns=\"index\")\n",
    "# PD_recov_taps = PD_tap[(PD_tap.taps==31)].reset_index().drop(columns=\"index\")\n",
    "# print(PD_first_tap)\n",
    "# print(PD_last_three_taps)\n",
    "# print(PD_recov_taps)\n",
    "# PD_final_taps=PD_last_three_taps.groupby([\"dataset\", \"Date\",\"Plate_id\",\"Screen\",\"Gene\",\"Allele\",\"plate\"]).mean().reset_index()\n",
    "# print(PD_final_taps)"
   ]
  },
  {
   "cell_type": "code",
   "execution_count": null,
   "id": "862c64cc-d069-4e18-b337-f4820a958cf4",
   "metadata": {},
   "outputs": [],
   "source": [
    "# PD_final_taps=PD_final_taps.rename(columns={\"dura\": \"final_dura\", \"prob\": \"final_prob\", \"speed\": \"final_speed\"}, errors=\"raise\")\n",
    "# PD_first_tap=PD_first_tap.rename(columns={\"dura\": \"init_dura\", \"prob\": \"init_prob\", \"speed\": \"init_speed\"}, errors=\"raise\")\n",
    "# print(PD_final_taps)\n",
    "# print(PD_first_tap)"
   ]
  },
  {
   "cell_type": "code",
   "execution_count": null,
   "id": "82dc9c5f-3fb7-47af-a0da-6ba8eaa0b7c4",
   "metadata": {},
   "outputs": [],
   "source": [
    "# PD_habit_levels = pd.merge(PD_first_tap, PD_final_taps, on =['dataset','plate',\"Plate_id\",\"Screen\",\"Gene\",\"Allele\",\"Date\"], how ='left')\n",
    "# PD_habit_levels = PD_habit_levels.dropna()\n",
    "# print(PD_habit_levels)"
   ]
  },
  {
   "cell_type": "code",
   "execution_count": null,
   "id": "8cc1694f-aaf9-4ba0-95c6-3ce98480f298",
   "metadata": {},
   "outputs": [],
   "source": [
    "# PD_habit_levels['habit_dura']=PD_habit_levels.init_dura-PD_habit_levels.final_dura\n",
    "# PD_habit_levels['habit_prob']=PD_habit_levels.init_prob-PD_habit_levels.final_prob\n",
    "# PD_habit_levels['habit_speed']=PD_habit_levels.init_speed-PD_habit_levels.final_speed\n",
    "# # PD_habit_levels=PD_habit_levels.drop(columns=['time_x','time_y','dist_x','dist_y', 'Allele','Gene'])\n",
    "# PD_habit_levels=PD_habit_levels.drop(columns=['time_x','time_y','dist_x','dist_y'])"
   ]
  },
  {
   "cell_type": "code",
   "execution_count": null,
   "id": "f236ade4-f79c-4f64-aba2-366ef1d41318",
   "metadata": {},
   "outputs": [],
   "source": [
    "# PD_recov_taps=PD_recov_taps.rename(columns={\"dura\": \"recov_dura\", \"prob\": \"recov_prob\", \"speed\":\"recov_speed\"})\n",
    "# PD_habituation = pd.merge(PD_habit_levels, PD_recov_taps, on =['dataset','plate',\"Plate_id\",\"Screen\",\"Gene\",\"Allele\",\"Date\"], how ='left')\n",
    "# PD_habituation = PD_habituation.drop(columns=['taps_x','taps_y','taps','time'])\n",
    "# PD_habituation = PD_habituation.dropna()\n",
    "# print(PD_habituation)"
   ]
  },
  {
   "cell_type": "code",
   "execution_count": null,
   "id": "9f1e2a1e-8664-43e8-a8af-48f1ebbf3585",
   "metadata": {},
   "outputs": [],
   "source": [
    "# PD_habituation['recovery_dura']=PD_habituation.init_dura-PD_habituation.recov_dura\n",
    "# PD_habituation['recovery_prob']=PD_habituation.init_prob-PD_habituation.recov_prob\n",
    "# PD_habituation['recovery_speed']=PD_habituation.init_speed-PD_habituation.recov_speed\n",
    "# PD_habituation=PD_habituation.dropna()\n",
    "# print(PD_habituation)"
   ]
  },
  {
   "cell_type": "code",
   "execution_count": null,
   "id": "0d945bd9-912e-4dc9-926d-7d04585a8a74",
   "metadata": {},
   "outputs": [],
   "source": [
    "print(tap_data)"
   ]
  },
  {
   "cell_type": "code",
   "execution_count": null,
   "id": "da90e6af-cfae-447c-9716-bcdeee522764",
   "metadata": {},
   "outputs": [],
   "source": [
    "print(tap_data.columns.values)"
   ]
  },
  {
   "cell_type": "markdown",
   "id": "ae6c679a-166c-43d0-946e-226ee9a20c1d",
   "metadata": {},
   "source": [
    "## Allele level T-stat analysis of tap response data"
   ]
  },
  {
   "cell_type": "code",
   "execution_count": null,
   "id": "bbfecc89-cd0a-472b-bb6d-a2de6fc1a2b9",
   "metadata": {},
   "outputs": [],
   "source": [
    "recovery_dura_allele=pd.DataFrame(columns = [\"dataset\",\"Recovery Duration\"])\n",
    "recovery_prob_allele=pd.DataFrame(columns = [\"dataset\",\"Recovery Probability\"])\n",
    "recovery_speed_allele=pd.DataFrame(columns = [\"dataset\",\"Recovery Speed\"])\n",
    "init_dura_allele=pd.DataFrame(columns = [\"dataset\",\"Initial Duration\"])\n",
    "init_prob_allele=pd.DataFrame(columns = [\"dataset\",\"Initial Probability\"])\n",
    "init_speed_allele=pd.DataFrame(columns = [\"dataset\",\"Initial Speed\"])\n",
    "final_dura_allele=pd.DataFrame(columns = [\"dataset\",\"Final Duration\"])\n",
    "final_prob_allele=pd.DataFrame(columns = [\"dataset\",\"Final Probability\"])\n",
    "final_speed_allele=pd.DataFrame(columns = [\"dataset\",\"Final Speed\"])\n",
    "hab_dura_allele=pd.DataFrame(columns = [\"dataset\",\"Habituation of Duration\"])\n",
    "hab_prob_allele=pd.DataFrame(columns = [\"dataset\",\"Habituation of Probability\"])\n",
    "hab_speed_allele=pd.DataFrame(columns = [\"dataset\",\"Habituation of Speed\"])\n",
    "\n",
    "list_tap_Tstats_allele = [recovery_dura_allele,\n",
    "                   recovery_prob_allele,\n",
    "                   recovery_speed_allele,\n",
    "                   init_dura_allele,\n",
    "                   init_prob_allele,\n",
    "                   init_speed_allele,\n",
    "                   final_dura_allele,\n",
    "                   final_prob_allele,\n",
    "                   final_speed_allele,\n",
    "                   hab_dura_allele,\n",
    "                   hab_prob_allele,\n",
    "                   hab_speed_allele]\n",
    "list_tap_metrics = [\"recovery_dura\",\n",
    "                    \"recovery_prob\",\n",
    "                    \"recovery_speed\",\n",
    "                    \"init_dura\",\n",
    "                    \"init_prob\",\n",
    "                    \"init_speed\",\n",
    "                    \"final_dura\",\n",
    "                    \"final_prob\",\n",
    "                    \"final_speed\",\n",
    "                    \"habit_dura\",\n",
    "                    \"habit_prob\",\n",
    "                    \"habit_speed\"]\n",
    "print('done')"
   ]
  },
  {
   "cell_type": "code",
   "execution_count": null,
   "id": "440814af-d3d3-4972-a564-0743b642bc87",
   "metadata": {},
   "outputs": [],
   "source": [
    "for x in tap_data['dataset'].unique():\n",
    "    if x == \"N2\":\n",
    "    # if x == \"N2_N2\" or x == \"N2_XJ1\":\n",
    "        pass\n",
    "    else:\n",
    "        PD_habituation_allele=tap_data[tap_data['dataset']==x]\n",
    "        gene_PD_habituation_data=tap_data[tap_data['Date'].isin(PD_habituation_allele['Date'].unique())]\n",
    "        gene_PD_habituation_data_final=gene_PD_habituation_data[gene_PD_habituation_data['dataset'].isin(['N2', x])]\n",
    "        # gene_PD_habituation_data_final=gene_PD_habituation_data[gene_PD_habituation_data['dataset'].isin(['N2_N2', \"N2_XJ1\", x])]\n",
    "        # print(gene_baseline_data_final['Gene'].unique())\n",
    "        for a,b in zip(list_tap_metrics, list_tap_Tstats_allele):\n",
    "            TTest_Allele(a, gene_PD_habituation_data_final, b)"
   ]
  },
  {
   "cell_type": "code",
   "execution_count": null,
   "id": "b91a2eb5-8d4f-4e4d-bebc-5ab154fd28fe",
   "metadata": {},
   "outputs": [],
   "source": [
    "PD_habituation_Tstats_allele=pd.DataFrame()\n",
    "for a in list_tap_Tstats_allele:\n",
    "    b=a.groupby(['dataset'], as_index=False).mean()\n",
    "    # print(a.columns.values[1])\n",
    "    if b.columns.values[1] == list_tap_Tstats_allele[0].columns.values[1]:\n",
    "        PD_habituation_Tstats_allele=b\n",
    "    else:\n",
    "        PD_habituation_Tstats_allele=PD_habituation_Tstats_allele.join(b.iloc[:,1])\n",
    "        \n",
    "print(PD_habituation_Tstats_allele)"
   ]
  },
  {
   "cell_type": "code",
   "execution_count": null,
   "id": "80468efc-200e-4a11-943d-18b5762996e4",
   "metadata": {},
   "outputs": [],
   "source": [
    "PD_habituation_Tstats_allele=PD_habituation_Tstats_allele.set_index(\"dataset\")\n",
    "print(PD_habituation_Tstats_allele)\n",
    "PD_habituation_Tstats_allele_sorted=PD_habituation_Tstats_allele.sort_index()\n",
    "print(PD_habituation_Tstats_allele_sorted)\n",
    "print(PD_baseline_Tstats_allele_sort)"
   ]
  },
  {
   "cell_type": "markdown",
   "id": "82f44a6d-6632-4e0f-8c58-a7060daf756d",
   "metadata": {},
   "source": [
    "## Gene-level T-stat analysis of Tap response data"
   ]
  },
  {
   "cell_type": "code",
   "execution_count": null,
   "id": "757bb7d2-d1e7-4227-a056-0ca0e1d10c0d",
   "metadata": {},
   "outputs": [],
   "source": [
    "recovery_dura=pd.DataFrame(columns = [\"Gene\",\"Recovery Duration\"])\n",
    "recovery_prob=pd.DataFrame(columns = [\"Gene\",\"Recovery Probability\"])\n",
    "recovery_speed=pd.DataFrame(columns = [\"Gene\",\"Recovery Speed\"])\n",
    "init_dura=pd.DataFrame(columns = [\"Gene\",\"Initial Duration\"])\n",
    "init_prob=pd.DataFrame(columns = [\"Gene\",\"Initial Probability\"])\n",
    "init_speed=pd.DataFrame(columns = [\"Gene\",\"Initial Speed\"])\n",
    "final_dura=pd.DataFrame(columns = [\"Gene\",\"Final Duration\"])\n",
    "final_prob=pd.DataFrame(columns = [\"Gene\",\"Final Probability\"])\n",
    "final_speed=pd.DataFrame(columns = [\"Gene\",\"Final Speed\"])\n",
    "hab_dura=pd.DataFrame(columns = [\"Gene\",\"Habituation of Duration\"])\n",
    "hab_prob=pd.DataFrame(columns = [\"Gene\",\"Habituation of Probability\"])\n",
    "hab_speed=pd.DataFrame(columns = [\"Gene\",\"Habituation of Speed\"])\n",
    "\n",
    "list_tap_Tstats = [recovery_dura,\n",
    "                   recovery_prob,\n",
    "                   recovery_speed,\n",
    "                   init_dura,\n",
    "                   init_prob,\n",
    "                   init_speed,\n",
    "                   final_dura,\n",
    "                   final_prob,\n",
    "                   final_speed,\n",
    "                   hab_dura,\n",
    "                   hab_prob,\n",
    "                   hab_speed]\n",
    "list_tap_metrics = [\"recovery_dura\",\n",
    "                    \"recovery_prob\",\n",
    "                    \"recovery_speed\",\n",
    "                    \"init_dura\",\n",
    "                    \"init_prob\",\n",
    "                    \"init_speed\",\n",
    "                    \"final_dura\",\n",
    "                    \"final_prob\",\n",
    "                    \"final_speed\",\n",
    "                    \"habit_dura\",\n",
    "                    \"habit_prob\",\n",
    "                    \"habit_speed\"]\n",
    "print('done')"
   ]
  },
  {
   "cell_type": "code",
   "execution_count": null,
   "id": "14d4aa5c-fd22-4be8-99d7-f7d65ff0bc75",
   "metadata": {},
   "outputs": [],
   "source": [
    "for x in tap_data['Gene'].unique():\n",
    "    if x == \"N2\":\n",
    "        pass\n",
    "    else:\n",
    "        PD_habituation_gene=tap_data[tap_data['Gene']==x]\n",
    "        gene_PD_habituation_data=tap_data[tap_data['Date'].isin(PD_habituation_gene['Date'].unique())]\n",
    "        gene_PD_habituation_data_final=gene_PD_habituation_data[gene_PD_habituation_data['Gene'].isin(['N2', x])]\n",
    "        # print(gene_baseline_data_final['Gene'].unique())\n",
    "        for a,b in zip(list_tap_metrics, list_tap_Tstats):\n",
    "            TTest_Gene(a, gene_PD_habituation_data_final, b)"
   ]
  },
  {
   "cell_type": "code",
   "execution_count": null,
   "id": "eec7483b-d593-44b4-b450-dcb6a4f7866e",
   "metadata": {},
   "outputs": [],
   "source": [
    "PD_habituation_Tstats=pd.DataFrame()\n",
    "for a in list_tap_Tstats:\n",
    "    b=a.groupby(['Gene'], as_index=False).mean()\n",
    "    # print(a.columns.values[1])\n",
    "    if b.columns.values[1] == list_tap_Tstats[0].columns.values[1]:\n",
    "        PD_habituation_Tstats=b\n",
    "    else:\n",
    "        PD_habituation_Tstats=PD_habituation_Tstats.join(b.iloc[:,1])\n",
    "        \n",
    "print(PD_habituation_Tstats)"
   ]
  },
  {
   "cell_type": "code",
   "execution_count": null,
   "id": "ad7d7dfd-2348-4c9c-97d7-c0c696d54ea0",
   "metadata": {},
   "outputs": [],
   "source": [
    "PD_habituation_Tstats=PD_habituation_Tstats.set_index(\"Gene\")\n",
    "PD_habituation_Tstats_sorted=PD_habituation_Tstats.sort_index()\n",
    "print(PD_habituation_Tstats)\n",
    "print(PD_habituation_Tstats_sorted)\n",
    "print(PD_baseline_Tstats_sort)"
   ]
  },
  {
   "cell_type": "markdown",
   "id": "a3071bf3-afd5-49e8-baa4-7e37dd120383",
   "metadata": {},
   "source": [
    "# Merging t-stat data into one dataset"
   ]
  },
  {
   "cell_type": "markdown",
   "id": "c23c436e-1fd2-4bd1-8dd4-53517d4d0f4a",
   "metadata": {},
   "source": [
    "## Gene-level"
   ]
  },
  {
   "cell_type": "code",
   "execution_count": null,
   "id": "81eacd88-edb5-4e98-9f49-2d4508cf40c9",
   "metadata": {},
   "outputs": [],
   "source": [
    "combined_Tstats = pd.merge(PD_baseline_Tstats, PD_habituation_Tstats, on =['Gene'], how ='left')\n",
    "combined_Tstats=combined_Tstats.sort_index()\n",
    "# PD_combined_Tstats=PD_combined_Tstats.drop(index=\"N2\")\n",
    "# combined_Tstats=combined_Tstats.dropna()\n",
    "print(combined_Tstats)\n",
    "combined_Tstats_normalize=(combined_Tstats-combined_Tstats.mean())/combined_Tstats.std()\n",
    "print(combined_Tstats_normalize)\n",
    "print(combined_Tstats_normalize[combined_Tstats_normalize.index==\"N2\"])\n",
    "print(combined_Tstats_normalize.index)\n",
    "combined_Tstats_normalize_2=combined_Tstats_normalize-combined_Tstats_normalize[combined_Tstats_normalize.index==\"N2\"].squeeze()\n",
    "print(combined_Tstats_normalize_2[combined_Tstats_normalize_2.index==\"N2\"])\n",
    "\n",
    "first_col=combined_Tstats.pop(\"Area\")\n",
    "combined_Tstats.insert(0,\"Area\",first_col)\n",
    "\n",
    "first_col=combined_Tstats.pop(\"Length\")\n",
    "combined_Tstats.insert(0,\"Length\",first_col)\n",
    "\n",
    "first_col=combined_Tstats.pop(\"Width\")\n",
    "combined_Tstats.insert(0,\"Width\",first_col)\n",
    "\n",
    "first_col=combined_Tstats.pop(\"Angular Speed\")\n",
    "combined_Tstats.insert(5,\"Angular Speed\",first_col)\n",
    "\n",
    "print(combined_Tstats)\n",
    "\n",
    "combined_Tstats=combined_Tstats.rename(columns={\"Habituation of Duration\":\"Habituation of Response Duration\",\n",
    "                                                 \"Habituation of Probability\": \"Habituation of Respones Probability\",\n",
    "                                                 \"Habituation of Speed\":\"Habituation of Response Speed\",\n",
    "                                                 \"Initial Duration\": \"Initial Response Duration\",\n",
    "                                                 \"Initial Probability\": \"Initial Response Probability\",\n",
    "                                                 \"Initial Speed\": \"Initial Response Speed\",\n",
    "                                                 \"Final Duration\": \"Final Response Duration\",\n",
    "                                                 \"Final Probability\": \"Final Response Probability\",\n",
    "                                                 \"Final Speed\": \"Final Response Speed\",\n",
    "                                                 \"Recovery Duration\": \"Spontaneous Recovery of Response Duration\",\n",
    "                                                 \"Recovery Probability\": \"Spontaneous Recovery of Response Probability\",\n",
    "                                                 \"Recovery Speed\": \"Spontaneous Recovery of Response Speed\"})\n",
    "\n",
    "combined_Tstats_normalize_2=combined_Tstats_normalize_2.rename(columns={\"Habituation of Duration\":\"Habituation of Response Duration\",\n",
    "                                                                         \"Habituation of Probability\": \"Habituation of Respones Probability\",\n",
    "                                                                         \"Habituation of Speed\":\"Habituation of Response Speed\",\n",
    "                                                                         \"Initial Duration\": \"Initial Response Duration\",\n",
    "                                                                         \"Initial Probability\": \"Initial Response Probability\",\n",
    "                                                                         \"Initial Speed\": \"Initial Response Speed\",\n",
    "                                                                         \"Final Duration\": \"Final Response Duration\",\n",
    "                                                                         \"Final Probability\": \"Final Response Probability\",\n",
    "                                                                         \"Final Speed\": \"Final Response Speed\",\n",
    "                                                                         \"Recovery Duration\": \"Spontaneous Recovery of Response Duration\",\n",
    "                                                                         \"Recovery Probability\": \"Spontaneous Recovery of Response Probability\",\n",
    "                                                                         \"Recovery Speed\": \"Spontaneous Recovery of Response Speed\"})\n",
    "print(combined_Tstats_normalize_2)\n",
    "\n",
    "first_col=combined_Tstats_normalize_2.pop(\"Area\")\n",
    "combined_Tstats_normalize_2.insert(0,\"Area\",first_col)\n",
    "\n",
    "first_col=combined_Tstats_normalize_2.pop(\"Length\")\n",
    "combined_Tstats_normalize_2.insert(0,\"Length\",first_col)\n",
    "\n",
    "first_col=combined_Tstats_normalize_2.pop(\"Width\")\n",
    "combined_Tstats_normalize_2.insert(0,\"Width\",first_col)\n",
    "\n",
    "first_col=combined_Tstats_normalize_2.pop(\"Angular Speed\")\n",
    "combined_Tstats_normalize_2.insert(5,\"Angular Speed\",first_col)\n",
    "\n",
    "last_col=combined_Tstats_normalize_2.pop(\"Spontaneous Recovery of Response Duration\")\n",
    "combined_Tstats_normalize_2.insert(22,\"Spontaneous Recovery of Response Duration\",last_col)\n",
    "\n",
    "last_col=combined_Tstats_normalize_2.pop(\"Spontaneous Recovery of Response Probability\")\n",
    "combined_Tstats_normalize_2.insert(22,\"Spontaneous Recovery of Response Probability\",last_col)\n",
    "\n",
    "last_col=combined_Tstats_normalize_2.pop(\"Spontaneous Recovery of Response Speed\")\n",
    "combined_Tstats_normalize_2.insert(22,\"Spontaneous Recovery of Response Speed\",last_col)\n",
    "\n",
    "print(combined_Tstats_normalize_2)\n",
    "\n",
    "combined_Tstats_melted=combined_Tstats.reset_index()\n",
    "combined_Tstats_melted=pd.melt(combined_Tstats_melted, id_vars=['Gene'],\n",
    "                               var_name='Metric',\n",
    "                               value_name='T_score')\n",
    "combined_Tstats_melted_sorted=combined_Tstats_melted.sort_values(by=['T_score'])\n",
    "print(combined_Tstats_melted_sorted)\n",
    "\n",
    "combined_Tstats_normalized_melted=combined_Tstats_normalize_2.reset_index()\n",
    "combined_Tstats_normalized_melted=pd.melt(combined_Tstats_normalized_melted, id_vars=['Gene'],\n",
    "                                           var_name='Metric',\n",
    "                                           value_name='T_score')\n",
    "print(combined_Tstats_normalized_melted)\n"
   ]
  },
  {
   "cell_type": "markdown",
   "id": "73da0e1e-d702-408f-b278-2a05b39ba999",
   "metadata": {},
   "source": [
    "## Allele level"
   ]
  },
  {
   "cell_type": "code",
   "execution_count": null,
   "id": "16521a12-8c86-4310-9455-09054ed08b1d",
   "metadata": {},
   "outputs": [],
   "source": [
    "combined_Tstats_allele = pd.merge(PD_baseline_Tstats_allele, PD_habituation_Tstats_allele, on =['dataset'], how ='left')\n",
    "combined_Tstats_allele=combined_Tstats_allele.sort_index()\n",
    "# PD_combined_Tstats=PD_combined_Tstats.drop(index=\"N2\")\n",
    "# combined_Tstats=combined_Tstats_allele.dropna()\n",
    "print(\"combined_Tstats_allele\")\n",
    "print(combined_Tstats_allele)\n",
    "print(\"-\"*55)\n",
    "combined_Tstats_normalize_allele=(combined_Tstats_allele-combined_Tstats_allele.mean())/combined_Tstats_allele.std()\n",
    "print(\"combined_Tstats_normalize_allele\")\n",
    "print(combined_Tstats_normalize_allele)\n",
    "print(\"-\"*55)\n",
    "# print(combined_Tstats_normalize_allele[combined_Tstats_normalize_allele.index==\"N2\"])\n",
    "print(\"N2_XJ1 Data\")\n",
    "print(combined_Tstats_normalize_allele[combined_Tstats_normalize_allele.index==\"N2_XJ1\"])\n",
    "print(\"-\"*55)\n",
    "print(\"combined_Tstats_normalize_allele row labels\")\n",
    "print(combined_Tstats_normalize_allele.index)\n",
    "print(\"-\"*55)\n",
    "# combined_Tstats_normalize_allele_2=combined_Tstats_normalize_allele-combined_Tstats_normalize_allele[combined_Tstats_normalize_allele.index==\"N2\"].squeeze()\n",
    "combined_Tstats_normalize_allele_2=combined_Tstats_normalize_allele-combined_Tstats_normalize_allele[combined_Tstats_normalize_allele.index==\"N2_XJ1\"].squeeze()\n",
    "# print(combined_Tstats_normalize_allele_2[combined_Tstats_normalize_allele_2.index==\"N2\"])\n",
    "print(\"combined Tstats normalized N2_XJ1 data\")\n",
    "print(combined_Tstats_normalize_allele_2[combined_Tstats_normalize_allele_2.index==\"N2_XJ1\"])\n",
    "print(\"-\"*55)\n",
    "first_col=combined_Tstats_allele.pop(\"Area\")\n",
    "combined_Tstats_allele.insert(0,\"Area\",first_col)\n",
    "\n",
    "first_col=combined_Tstats_allele.pop(\"Length\")\n",
    "combined_Tstats_allele.insert(0,\"Length\",first_col)\n",
    "\n",
    "first_col=combined_Tstats_allele.pop(\"Width\")\n",
    "combined_Tstats_allele.insert(0,\"Width\",first_col)\n",
    "\n",
    "first_col=combined_Tstats_allele.pop(\"Angular Speed\")\n",
    "combined_Tstats_allele.insert(5,\"Angular Speed\",first_col)\n",
    "print(\"combined_Tstats_allele\")\n",
    "print(combined_Tstats_allele)\n",
    "print(\"-\"*55)\n",
    "combined_Tstats_allele=combined_Tstats_allele.rename(columns={\"Habituation of Duration\":\"Habituation of Response Duration\",\n",
    "                                                             \"Habituation of Probability\": \"Habituation of Respones Probability\",\n",
    "                                                             \"Habituation of Speed\":\"Habituation of Response Speed\",\n",
    "                                                             \"Initial Duration\": \"Initial Response Duration\",\n",
    "                                                             \"Initial Probability\": \"Initial Response Probability\",\n",
    "                                                             \"Initial Speed\": \"Initial Response Speed\",\n",
    "                                                             \"Final Duration\": \"Final Response Duration\",\n",
    "                                                             \"Final Probability\": \"Final Response Probability\",\n",
    "                                                             \"Final Speed\": \"Final Response Speed\",\n",
    "                                                             \"Recovery Duration\": \"Spontaneous Recovery of Response Duration\",\n",
    "                                                             \"Recovery Probability\": \"Spontaneous Recovery of Response Probability\",\n",
    "                                                             \"Recovery Speed\": \"Spontaneous Recovery of Response Speed\"})\n",
    "\n",
    "combined_Tstats_normalize_allele_2=combined_Tstats_normalize_allele_2.rename(columns={\"Habituation of Duration\":\"Habituation of Response Duration\",\n",
    "                                                                                             \"Habituation of Probability\": \"Habituation of Respones Probability\",\n",
    "                                                                                             \"Habituation of Speed\":\"Habituation of Response Speed\",\n",
    "                                                                                             \"Initial Duration\": \"Initial Response Duration\",\n",
    "                                                                                             \"Initial Probability\": \"Initial Response Probability\",\n",
    "                                                                                             \"Initial Speed\": \"Initial Response Speed\",\n",
    "                                                                                             \"Final Duration\": \"Final Response Duration\",\n",
    "                                                                                             \"Final Probability\": \"Final Response Probability\",\n",
    "                                                                                             \"Final Speed\": \"Final Response Speed\",\n",
    "                                                                                             \"Recovery Duration\": \"Spontaneous Recovery of Response Duration\",\n",
    "                                                                                             \"Recovery Probability\": \"Spontaneous Recovery of Response Probability\",\n",
    "                                                                                             \"Recovery Speed\": \"Spontaneous Recovery of Response Speed\"})\n",
    "\n",
    "print(\"combined_Tstats_normalize_allele_2\")\n",
    "print(combined_Tstats_normalize_allele_2)\n",
    "print(\"-\"*55)\n",
    "first_col=combined_Tstats_normalize_allele_2.pop(\"Area\")\n",
    "combined_Tstats_normalize_allele_2.insert(0,\"Area\",first_col)\n",
    "\n",
    "first_col=combined_Tstats_normalize_allele_2.pop(\"Length\")\n",
    "combined_Tstats_normalize_allele_2.insert(0,\"Length\",first_col)\n",
    "\n",
    "first_col=combined_Tstats_normalize_allele_2.pop(\"Width\")\n",
    "combined_Tstats_normalize_allele_2.insert(0,\"Width\",first_col)\n",
    "\n",
    "first_col=combined_Tstats_normalize_allele_2.pop(\"Angular Speed\")\n",
    "combined_Tstats_normalize_allele_2.insert(5,\"Angular Speed\",first_col)\n",
    "\n",
    "last_col=combined_Tstats_normalize_allele_2.pop(\"Spontaneous Recovery of Response Duration\")\n",
    "combined_Tstats_normalize_allele_2.insert(22,\"Spontaneous Recovery of Response Duration\",last_col)\n",
    "\n",
    "last_col=combined_Tstats_normalize_allele_2.pop(\"Spontaneous Recovery of Response Probability\")\n",
    "combined_Tstats_normalize_allele_2.insert(22,\"Spontaneous Recovery of Response Probability\",last_col)\n",
    "\n",
    "last_col=combined_Tstats_normalize_allele_2.pop(\"Spontaneous Recovery of Response Speed\")\n",
    "combined_Tstats_normalize_allele_2.insert(22,\"Spontaneous Recovery of Response Speed\",last_col)\n",
    "\n",
    "print(combined_Tstats_normalize_allele_2)\n",
    "\n",
    "combined_Tstats_normalized_melted_allele=combined_Tstats_normalize_allele_2.reset_index()\n",
    "combined_Tstats_normalized_melted_allele=pd.melt(combined_Tstats_normalized_melted_allele, id_vars=['dataset'],\n",
    "                                                   var_name='Metric',\n",
    "                                                   value_name='T_score')\n",
    "print(combined_Tstats_normalized_melted_allele)\n",
    "\n",
    "\n",
    "combined_Tstats_melted_allele=combined_Tstats_allele.reset_index()\n",
    "combined_Tstats_melted_allele=pd.melt(combined_Tstats_melted_allele, id_vars=['dataset'],\n",
    "                                       var_name='Metric',\n",
    "                                       value_name='T_score')\n",
    "print(combined_Tstats_melted_allele)\n",
    "combined_Tstats_melted_allele_sorted=combined_Tstats_melted_allele.sort_values(by=['T_score'])\n",
    "print(combined_Tstats_melted_allele_sorted)"
   ]
  },
  {
   "cell_type": "code",
   "execution_count": null,
   "id": "cb957ef0-6661-492a-8d1e-d3d5cff2dc3c",
   "metadata": {},
   "outputs": [],
   "source": [
    "combined_Tstats_normalize_2['Screen']=Screen\n",
    "combined_Tstats_normalize_allele_2['Screen']=Screen\n",
    "combined_Tstats_normalized_melted['Screen']=Screen\n",
    "combined_Tstats_normalized_melted_allele['Screen']=Screen"
   ]
  },
  {
   "cell_type": "code",
   "execution_count": null,
   "id": "fe9b29dd-6dbf-411f-b05d-b4456fe16bef",
   "metadata": {},
   "outputs": [],
   "source": [
    "print(tap_output)"
   ]
  },
  {
   "cell_type": "code",
   "execution_count": null,
   "id": "4be480f8-c52d-4dac-a6e5-2c5bd003001c",
   "metadata": {},
   "outputs": [],
   "source": [
    "print(combined_MSD)"
   ]
  },
  {
   "cell_type": "markdown",
   "id": "b4915fd6-beba-45a7-9575-346dfe679285",
   "metadata": {},
   "source": [
    "## sqlite3 upload data"
   ]
  },
  {
   "cell_type": "markdown",
   "id": "3d4a06cb-457b-4d9e-bb11-6e6042b6b65b",
   "metadata": {},
   "source": [
    "## A janky way to add data and update the sql \n",
    "\n",
    "1. Read table to pd.DataFrame\n",
    "2. Add new data to pd.DataFrame\n",
    "3. Replace old table with newly updated pd.DataFrame"
   ]
  },
  {
   "cell_type": "code",
   "execution_count": 3,
   "id": "375b2702-0d88-4fc8-8b4d-fc5c633dee1e",
   "metadata": {},
   "outputs": [],
   "source": [
    "def read(table):\n",
    "    result = pd.read_sql_query(f\"SELECT * FROM {table}\", conn)\n",
    "    return result\n",
    "\n",
    "conn = sqlite3.connect('/Users/Joseph/Desktop/NRSC510B/mwt_data.db')\n",
    "old_tap_output = read('tap_response_data')\n",
    "old_tap_tstat_gene = read('tstat_gene_data')\n",
    "old_tap_tstat_allele = read('tstat_allele_data')\n",
    "old_gene_profile_data = read('gene_profile_data')\n",
    "old_allele_profile_data = read('allele_profile_data')\n",
    "# old_gene_MSD = read('gene_MSD')\n",
    "# old_allele_MSD = read('allele_MSD')\n",
    "\n",
    "conn.close()"
   ]
  },
  {
   "cell_type": "code",
   "execution_count": null,
   "id": "6d628dd4-08e4-4e28-bfb7-33814ed81633",
   "metadata": {},
   "outputs": [],
   "source": [
    "# print(old_tap_tstat_allele)\n",
    "# # print(old_tap_tstat_gene.drop_duplicates())"
   ]
  },
  {
   "cell_type": "code",
   "execution_count": null,
   "id": "31b3c1d0-318c-40f6-b6a3-e5e23b781539",
   "metadata": {},
   "outputs": [],
   "source": [
    "# # conn=sqlite3.connect('/Users/Joseph/Desktop/NRSC510B/mwt_data.db')\n",
    "# old_tap_output.drop_duplicates().to_sql('tap_response_data', conn, if_exists='replace', index=False)\n",
    "# # baseline_output.to_sql('tap_baseline_data', conn, if_exists='replace', index=False)\n",
    "# old_tap_tstat_gene.drop_duplicates().to_sql('tstat_gene_data', conn, if_exists='replace', index=False)\n",
    "# old_tap_tstat_allele.drop_duplicates().to_sql('tstat_allele_data', conn, if_exists='replace', index=False)\n",
    "# old_gene_profile_data.drop_duplicates().to_sql('gene_profile_data', conn, if_exists='replace', index=False)\n",
    "# old_allele_profile_data.drop_duplicates().to_sql('allele_profile_data', conn, if_exists='replace', index=False)\n",
    "# # combined_MSD.to_sql('gene_MSD', conn, if_exists='append', index=False)\n",
    "# # allele_combined_MSD.to_sql('allele_MSD', conn, if_exists='append', index=False)\n",
    "# # combined_Tstats_melted_sorted.to_sql('allele_phenotype_data', conn, if_exists='replace', index=False)\n",
    "# print(conn.total_changes)\n",
    "# conn.close()"
   ]
  },
  {
   "cell_type": "code",
   "execution_count": null,
   "id": "b3030034-a9bd-44d9-95ff-32b11581adf5",
   "metadata": {},
   "outputs": [],
   "source": [
    "import sqlite3\n",
    "conn = sqlite3.connect('/Users/Joseph/Desktop/NRSC510B/mwt_data.db')\n",
    "cur = conn.cursor()\n",
    "cur.execute(\"SELECT name FROM sqlite_master WHERE type='table';\")\n",
    "print(cur.fetchall())\n",
    "# cur.execute(\"DROP TABLE IF EXISTS tap_baseline_data\")\n",
    "# cur.execute(\"DROP TABLE IF EXISTS allele_phenotype_data\")\n",
    "# cur.execute(\"DROP TABLE IF EXISTS tstat_data\")\n",
    "\n",
    "# print(\"-\"*60)\n",
    "\n",
    "# cur.execute(\"SELECT name FROM sqlite_master WHERE type='table';\")\n",
    "print(cur.fetchall())\n",
    "# cur.execute(\".tables\")\n",
    "conn.close()"
   ]
  },
  {
   "cell_type": "code",
   "execution_count": null,
   "id": "c0e7cd78-fd93-4a05-b56c-406ea0c688af",
   "metadata": {},
   "outputs": [],
   "source": [
    "'''\n",
    "input: (pd.DataFrame, pd.Dataframe or None, str)\n",
    "    1 or 2 pd.DataFrames with the same indexes (columns), and sql table name (str)\n",
    "    first DataFrame is old DataFrame read from the .db file\n",
    "    second DataFrame is new processed DataFrame to be appended to the old one\n",
    "    \n",
    "\n",
    "function: If only one DataFrame, replace the .db tabl with this one DataFrame\n",
    " Otherwise (when given two dataframes):\n",
    "     1. concatenate new DataFrame to old DataFrame\n",
    "     2. to_sql, if_exists = 'replace'\n",
    "\n",
    "'''\n",
    "\n",
    "def update_table(df1, df2=None, table_name):\n",
    "    if df2=None:\n",
    "        df1.to_sql(table_name, conn, if_exists='replace', index=False)\n",
    "    else:\n",
    "        new_df=pd.concat([df1, df2], ignore_index=True)\n",
    "        new_df.to_sql(table_name, conn, if_exists='replace', index=False)\n",
    "        "
   ]
  },
  {
   "cell_type": "code",
   "execution_count": null,
   "id": "b4d4512d-bb07-466e-892d-fb0c99bc25b9",
   "metadata": {},
   "outputs": [],
   "source": [
    "tap_output\n",
    "combined_Tstats_normalize_2\n",
    "combined_Tstats_normalize_allele_2\n",
    "combined_Tstats_normalized_melted\n",
    "combined_Tstats_normalized_melted_allele\n",
    "combined_MSD\n",
    "allele_combined_MSD"
   ]
  },
  {
   "cell_type": "code",
   "execution_count": null,
   "id": "5d33c616-2839-4572-af70-233af783302a",
   "metadata": {},
   "outputs": [],
   "source": [
    "conn=sqlite3.connect('/Users/Joseph/Desktop/NRSC510B/mwt_data.db')\n",
    "tap_output.to_sql('tap_response_data', conn, if_exists='append', index=False)\n",
    "# baseline_output.to_sql('tap_baseline_data', conn, if_exists='replace', index=False)\n",
    "combined_Tstats_normalize_2.reset_index().to_sql('tstat_gene_data', conn, if_exists='append', index=False)\n",
    "combined_Tstats_normalize_allele_2.reset_index().to_sql('tstat_allele_data', conn, if_exists='append', index=False)\n",
    "combined_Tstats_normalized_melted.to_sql('gene_profile_data', conn, if_exists='append', index=False)\n",
    "combined_Tstats_normalized_melted_allele.to_sql('allele_profile_data', conn, if_exists='append', index=False)\n",
    "combined_MSD.to_sql('gene_MSD', conn, if_exists='append', index=False)\n",
    "allele_combined_MSD.to_sql('allele_MSD', conn, if_exists='append', index=False)\n",
    "# combined_Tstats_melted_sorted.to_sql('allele_phenotype_data', conn, if_exists='replace', index=False)\n",
    "print(conn.total_changes)\n",
    "conn.close()\n",
    "\n",
    "# Want to test edge cases of pd.to_sql functionality#############"
   ]
  },
  {
   "cell_type": "code",
   "execution_count": null,
   "id": "90d4822f-dd6f-43eb-98b5-41b7190223f7",
   "metadata": {},
   "outputs": [],
   "source": [
    "conn=sqlite3.connect('/Users/Joseph/Desktop/NRSC510B/mwt_data.db')\n",
    "tap_output.to_sql('tap_response_data', conn, if_exists='append', index=False)\n",
    "# baseline_output.to_sql('tap_baseline_data', conn, if_exists='replace', index=False)\n",
    "combined_Tstats_normalize_2.reset_index().to_sql('tstat_gene_data', conn, if_exists='append', index=False)\n",
    "combined_Tstats_normalize_allele_2.reset_index().to_sql('tstat_allele_data', conn, if_exists='append', index=False)\n",
    "combined_Tstats_normalized_melted.to_sql('gene_profile_data', conn, if_exists='append', index=False)\n",
    "combined_Tstats_normalized_melted_allele.to_sql('allele_profile_data', conn, if_exists='append', index=False)"
   ]
  },
  {
   "cell_type": "code",
   "execution_count": null,
   "id": "0914e50b-09ea-4714-9bb5-5b0bb25924b9",
   "metadata": {},
   "outputs": [],
   "source": [
    "print(conn.total_changes)"
   ]
  },
  {
   "cell_type": "code",
   "execution_count": null,
   "id": "3d2c5b51-c902-4ae5-8506-1fbd49101e69",
   "metadata": {},
   "outputs": [],
   "source": [
    "cursor = conn.cursor()\n",
    "\n",
    "cursor.execute(\"SELECT COUNT(*) FROM table_name WHERE primary_key_column = ?\", (value,))\n",
    "exists = cursor.fetchone()[0] > 0\n",
    "\n",
    "if exists:\n",
    "    print(\"Primary key already exists in the table.\")\n",
    "else:\n",
    "    print(\"Primary key does not exist in the table.\")"
   ]
  },
  {
   "cell_type": "code",
   "execution_count": null,
   "id": "fc7e5100-bdca-44d5-bd0c-84b28e11cbcd",
   "metadata": {},
   "outputs": [],
   "source": [
    "conn.close()"
   ]
  },
  {
   "cell_type": "code",
   "execution_count": null,
   "id": "700ed37c-240d-41d2-b90a-8793a23477b9",
   "metadata": {},
   "outputs": [],
   "source": []
  },
  {
   "cell_type": "code",
   "execution_count": null,
   "id": "f7611f10-536b-4cd4-a402-01aa76c5af69",
   "metadata": {},
   "outputs": [],
   "source": []
  },
  {
   "cell_type": "code",
   "execution_count": null,
   "id": "e10398c8-2680-4ce2-a39a-d348d8246943",
   "metadata": {},
   "outputs": [],
   "source": []
  },
  {
   "cell_type": "code",
   "execution_count": null,
   "id": "b65df115-ff9a-4ad1-811f-df33002845cf",
   "metadata": {},
   "outputs": [],
   "source": []
  },
  {
   "cell_type": "code",
   "execution_count": null,
   "id": "66abb924-f1af-4cdd-b99a-f59d9255da5c",
   "metadata": {},
   "outputs": [],
   "source": []
  },
  {
   "cell_type": "code",
   "execution_count": null,
   "id": "7895c9a9-f067-495c-a9ff-6a50a4887ff1",
   "metadata": {},
   "outputs": [],
   "source": []
  },
  {
   "cell_type": "markdown",
   "id": "6e16d206-c8af-4ddf-8412-a86118024cec",
   "metadata": {},
   "source": [
    "## Clustering Playtest\n",
    "\n",
    "The below cells are for exploring clustering functionalities. Currently under development."
   ]
  },
  {
   "cell_type": "code",
   "execution_count": null,
   "id": "a2079074-5dcb-45aa-84c6-e1504f75a2db",
   "metadata": {},
   "outputs": [],
   "source": [
    "from sklearn.decomposition import PCA"
   ]
  },
  {
   "cell_type": "code",
   "execution_count": null,
   "id": "fc0ffccd-4417-4253-9403-57bdbb77902b",
   "metadata": {},
   "outputs": [],
   "source": [
    "pca.transform(X)"
   ]
  },
  {
   "cell_type": "code",
   "execution_count": null,
   "id": "94edc1ff-abed-494e-af6e-f0968a6f5555",
   "metadata": {},
   "outputs": [],
   "source": [
    "pca=PCA()\n",
    "pca.fit(X)\n"
   ]
  },
  {
   "cell_type": "code",
   "execution_count": null,
   "id": "cbf7fb34-82cd-43e9-8528-2e5f2bca26f6",
   "metadata": {},
   "outputs": [],
   "source": [
    "components=pca.transform(X)"
   ]
  },
  {
   "cell_type": "code",
   "execution_count": null,
   "id": "21c07dbc-21ba-44ad-a272-d790d6629eb1",
   "metadata": {},
   "outputs": [],
   "source": [
    "print(components)"
   ]
  },
  {
   "cell_type": "code",
   "execution_count": null,
   "id": "b771ba47-bc21-41f5-9fbd-3f0127b37251",
   "metadata": {},
   "outputs": [],
   "source": [
    "import plotly.express as px\n",
    "\n",
    "features = [\"Instantaneous Speed\", \"Interval Speed\", \"Bias\", \"Width\",\"Length\"]\n",
    "\n",
    "pca = PCA()\n",
    "components = pca.fit_transform(X[features])\n",
    "\n",
    "labels = {\n",
    "    str(i): f\"PC {i+1} ({var:.1f}%)\"\n",
    "    for i, var in enumerate(pca.explained_variance_ratio_ * 100)\n",
    "}\n",
    "\n",
    "fig = px.scatter_matrix(\n",
    "    components,width=800, height=800,\n",
    "    labels=labels,\n",
    "    dimensions=range(4))\n",
    "    # color=df[\"species\"]\n",
    "# fig.update_traces(diagonal_visible=False)\n",
    "fig.show()"
   ]
  },
  {
   "cell_type": "code",
   "execution_count": null,
   "id": "b76c3485-f5fd-475e-ad6c-757e0eda810e",
   "metadata": {},
   "outputs": [],
   "source": [
    "print(X)"
   ]
  },
  {
   "cell_type": "code",
   "execution_count": 4,
   "id": "7289b1cf-f489-472c-a4e6-60a7cc5d5dd2",
   "metadata": {},
   "outputs": [
    {
     "name": "stdout",
     "output_type": "stream",
     "text": [
      "-------------------------------------------------------\n"
     ]
    }
   ],
   "source": [
    "# print(old_tap_tstat_allele)\n",
    "\n",
    "\n",
    "meta=old_tap_tstat_allele.dropna()[['dataset','Screen']]\n",
    "X=old_tap_tstat_allele.dropna().drop(columns=['dataset','Screen'])\n",
    "# print(meta)\n",
    "# print(X)\n",
    "\n",
    "print(\"-\"*55)\n",
    "filtered = old_tap_tstat_allele[old_tap_tstat_allele['Screen']==\"PD_Screen\"]\n",
    "filtered_meta = filtered.dropna()[['dataset','Screen']]\n",
    "filtered_X = filtered.dropna().drop(columns=['dataset','Screen'])\n",
    "\n",
    "# print(filtered_X)"
   ]
  },
  {
   "cell_type": "code",
   "execution_count": 16,
   "id": "0fb4ffdc-22c9-427e-a9c1-5c0c762ee404",
   "metadata": {},
   "outputs": [
    {
     "name": "stdout",
     "output_type": "stream",
     "text": [
      "             dataset     Width    Length      Area  Instantaneous Speed  \\\n",
      "0    C29E4.10_ok2752 -0.697776 -0.148431 -0.400221             0.896872   \n",
      "1     F32D8.13_gk584  0.820625  0.087786  0.389944            -0.247800   \n",
      "2      F53B2.5_ok226 -0.329510 -0.147631 -0.369841             2.548817   \n",
      "3     F54B11.5_vs743 -0.896757 -0.346380 -0.685331             0.662600   \n",
      "4     F55C5.7_tm4031 -0.792484 -1.000494 -0.618600            -0.387900   \n",
      "..               ...       ...       ...       ...                  ...   \n",
      "860     wwp-1_ok1102 -2.524232 -2.018720 -2.393190            -2.857317   \n",
      "861         xol-1_y9  0.090833  0.050372  0.030639            -0.896235   \n",
      "862    zig-12_ok2994  0.170224 -0.174757 -0.059873            -0.856301   \n",
      "863     zig-3_ok1476 -3.315918 -2.724261 -3.399969            -1.271979   \n",
      "864     zig-7_ok2329  0.891507  0.159928  0.466208            -0.876551   \n",
      "\n",
      "     Interval Speed  Angular Speed      Bias  Aspect Ratio      Kink  ...  \\\n",
      "0          0.947613       1.197100  1.073078     -0.192029 -0.510668  ...   \n",
      "1         -0.128333      -0.474591 -0.006052     -0.011210 -0.127940  ...   \n",
      "2          1.646200       2.530201  2.786712      0.472215  0.166529  ...   \n",
      "3          0.717574       0.869716  0.749501     -0.321072 -0.318693  ...   \n",
      "4         -0.748727      -0.194431  0.200742     -0.289401 -0.537394  ...   \n",
      "..              ...            ...       ...           ...       ...  ...   \n",
      "860       -1.643011      -1.016868 -3.168845      1.626230  1.779505  ...   \n",
      "861       -0.841088      -1.050665 -1.261285      0.582782  0.970601  ...   \n",
      "862       -0.624088      -0.920415 -1.605823      0.742140  1.053151  ...   \n",
      "863       -1.239643       0.931390 -0.697031      2.994211  2.030680  ...   \n",
      "864       -0.531278      -0.528950 -1.220062      1.680884  1.387484  ...   \n",
      "\n",
      "     Initial Response Duration  Initial Response Probability  \\\n",
      "0                    -0.337051                     -1.068087   \n",
      "1                     0.433116                     -0.425054   \n",
      "2                     0.769247                      0.340773   \n",
      "3                    -0.194754                     -1.223589   \n",
      "4                     2.275404                     -0.164785   \n",
      "..                         ...                           ...   \n",
      "860                  -0.106024                     -0.009028   \n",
      "861                   1.201227                      0.028007   \n",
      "862                   0.537671                      0.125875   \n",
      "863                   1.284908                      0.097143   \n",
      "864                   1.358301                      0.205415   \n",
      "\n",
      "     Initial Response Speed  Final Response Duration  \\\n",
      "0                  0.344517                -1.899001   \n",
      "1                 -0.413732                 0.187806   \n",
      "2                  1.132009                 1.344517   \n",
      "3                  0.348595                -0.091614   \n",
      "4                 -0.542246                 0.377739   \n",
      "..                      ...                      ...   \n",
      "860               -1.279312                 1.403758   \n",
      "861               -0.399066                 0.709036   \n",
      "862                0.062141                 1.558367   \n",
      "863               -0.563954                 0.875869   \n",
      "864               -0.231300                 0.577377   \n",
      "\n",
      "     Final Response Probability  Final Response Speed  \\\n",
      "0                     -0.513585             -0.374109   \n",
      "1                     -0.541345              0.209082   \n",
      "2                     -0.143015             -0.121573   \n",
      "3                     -1.231233              0.178077   \n",
      "4                      2.727392             -0.375372   \n",
      "..                          ...                   ...   \n",
      "860                    0.270476             -0.590477   \n",
      "861                   -0.053768              0.330881   \n",
      "862                    0.550998              0.958213   \n",
      "863                    1.455464              0.204602   \n",
      "864                    0.208528             -0.360974   \n",
      "\n",
      "     Habituation of Response Duration  Habituation of Respones Probability  \\\n",
      "0                            0.077252                            -1.010991   \n",
      "1                            0.308398                             0.768777   \n",
      "2                            0.130670                             0.520985   \n",
      "3                           -0.172326                            -0.728012   \n",
      "4                            1.568912                            -1.869718   \n",
      "..                                ...                                  ...   \n",
      "860                         -0.767445                            -0.530656   \n",
      "861                          1.068455                             0.059023   \n",
      "862                         -0.376470                            -0.968068   \n",
      "863                          0.155063                            -1.406575   \n",
      "864                          1.122879                            -0.066103   \n",
      "\n",
      "     Habituation of Response Speed               Screen  \n",
      "0                         0.994582            PD_Screen  \n",
      "1                        -0.900080            PD_Screen  \n",
      "2                         2.540736            PD_Screen  \n",
      "3                         0.754115            PD_Screen  \n",
      "4                        -0.078009            PD_Screen  \n",
      "..                             ...                  ...  \n",
      "860                      -1.152721  Neuron_Genes_Screen  \n",
      "861                      -0.839775  Neuron_Genes_Screen  \n",
      "862                      -1.298236  Neuron_Genes_Screen  \n",
      "863                      -0.747608  Neuron_Genes_Screen  \n",
      "864                      -0.109178  Neuron_Genes_Screen  \n",
      "\n",
      "[769 rows x 22 columns]\n",
      "['ASD_Screen' 'G-Proteins_Screen' 'Glia_Genes_Screen'\n",
      " 'Neuron_Genes_Screen' 'PD_Screen']\n"
     ]
    }
   ],
   "source": [
    "# print(old_tap_tstat_allele)\n",
    "import numpy as np\n",
    "filtered=old_tap_tstat_allele.drop(columns=['Spontaneous Recovery of Response Duration',\n",
    "                                          'Spontaneous Recovery of Response Probability','Spontaneous Recovery of Response Speed'])\n",
    "filtered_no_na=filtered.dropna()\n",
    "print(filtered_no_na)\n",
    "meta=filtered_no_na[['dataset','Screen']]\n",
    "X = filtered_no_na.drop(columns=['dataset','Screen'])\n",
    "print(np.unique(filtered_no_na.Screen))"
   ]
  },
  {
   "cell_type": "code",
   "execution_count": null,
   "id": "65da8603-2cbc-4ba0-bd49-310a124193f8",
   "metadata": {},
   "outputs": [],
   "source": [
    "import seaborn as sns\n",
    "figure=sns.pairplot(old_tap_tstat_gene.drop(\"Gene\", axis=1), hue='Screen')\n",
    "figure.savefig('/Users/Joseph/Desktop/MWT_Datasets/pairpot.png', bbox_inches=\"tight\", dpi=450) "
   ]
  },
  {
   "cell_type": "code",
   "execution_count": 5,
   "id": "79bb657e-8fb0-4085-b59f-f4676282be5f",
   "metadata": {},
   "outputs": [
    {
     "name": "stderr",
     "output_type": "stream",
     "text": [
      "/Library/Frameworks/Python.framework/Versions/3.11/lib/python3.11/site-packages/umap/distances.py:1063: NumbaDeprecationWarning: The 'nopython' keyword argument was not supplied to the 'numba.jit' decorator. The implicit default value for this argument is currently False, but it will be changed to True in Numba 0.59.0. See https://numba.readthedocs.io/en/stable/reference/deprecation.html#deprecation-of-object-mode-fall-back-behaviour-when-using-jit for details.\n",
      "  @numba.jit()\n",
      "/Library/Frameworks/Python.framework/Versions/3.11/lib/python3.11/site-packages/umap/distances.py:1071: NumbaDeprecationWarning: The 'nopython' keyword argument was not supplied to the 'numba.jit' decorator. The implicit default value for this argument is currently False, but it will be changed to True in Numba 0.59.0. See https://numba.readthedocs.io/en/stable/reference/deprecation.html#deprecation-of-object-mode-fall-back-behaviour-when-using-jit for details.\n",
      "  @numba.jit()\n",
      "/Library/Frameworks/Python.framework/Versions/3.11/lib/python3.11/site-packages/umap/distances.py:1086: NumbaDeprecationWarning: The 'nopython' keyword argument was not supplied to the 'numba.jit' decorator. The implicit default value for this argument is currently False, but it will be changed to True in Numba 0.59.0. See https://numba.readthedocs.io/en/stable/reference/deprecation.html#deprecation-of-object-mode-fall-back-behaviour-when-using-jit for details.\n",
      "  @numba.jit()\n",
      "/Library/Frameworks/Python.framework/Versions/3.11/lib/python3.11/site-packages/umap/umap_.py:660: NumbaDeprecationWarning: The 'nopython' keyword argument was not supplied to the 'numba.jit' decorator. The implicit default value for this argument is currently False, but it will be changed to True in Numba 0.59.0. See https://numba.readthedocs.io/en/stable/reference/deprecation.html#deprecation-of-object-mode-fall-back-behaviour-when-using-jit for details.\n",
      "  @numba.jit()\n"
     ]
    }
   ],
   "source": [
    "import umap\n",
    "reducer = umap.UMAP()"
   ]
  },
  {
   "cell_type": "code",
   "execution_count": 13,
   "id": "80149b5c-98b9-444a-8d7e-ac5cebbb4398",
   "metadata": {},
   "outputs": [
    {
     "data": {
      "text/plain": [
       "(769, 2)"
      ]
     },
     "execution_count": 13,
     "metadata": {},
     "output_type": "execute_result"
    }
   ],
   "source": [
    "embedding = reducer.fit_transform(X)\n",
    "embedding.shape"
   ]
  },
  {
   "cell_type": "code",
   "execution_count": 20,
   "id": "67ee9c89-6ff5-4eec-b55b-3d0dd9cd1849",
   "metadata": {},
   "outputs": [
    {
     "data": {
      "text/plain": [
       "(769, 2)"
      ]
     },
     "execution_count": 20,
     "metadata": {},
     "output_type": "execute_result"
    }
   ],
   "source": [
    "fit = umap.UMAP(\n",
    "        n_neighbors=10,\n",
    "        min_dist=0.1,\n",
    "        metric='euclidean'\n",
    "        # n_components=n_components,\n",
    "        # metric=metric\n",
    ")\n",
    "u = fit.fit_transform(X)\n",
    "u.shape"
   ]
  },
  {
   "cell_type": "code",
   "execution_count": null,
   "id": "4621dd0a-42af-4fb6-8411-163782039998",
   "metadata": {},
   "outputs": [],
   "source": [
    "fit = umap.UMAP(\n",
    "        n_neighbors=5,\n",
    "        min_dist=0.1,\n",
    "        metric='euclidean'\n",
    "        # n_components=n_components,\n",
    "        # metric=metric\n",
    ")\n",
    "filtered_u = fit.fit_transform(filtered_X)\n",
    "filtered_u.shape"
   ]
  },
  {
   "cell_type": "code",
   "execution_count": 25,
   "id": "0f229886-4063-4f49-ad85-3b45bcf8cfa3",
   "metadata": {},
   "outputs": [
    {
     "name": "stderr",
     "output_type": "stream",
     "text": [
      "No artists with labels found to put in legend.  Note that artists whose label start with an underscore are ignored when legend() is called with no argument.\n"
     ]
    },
    {
     "data": {
      "image/png": "[encoded data removed]",
      "text/plain": [
       "<Figure size 640x480 with 1 Axes>"
      ]
     },
     "metadata": {},
     "output_type": "display_data"
    }
   ],
   "source": [
    "import matplotlib.pyplot as plt\n",
    "import seaborn as sns\n",
    "plt.scatter(\n",
    "    u[:, 0],\n",
    "    u[:, 1],\n",
    "    c=[sns.color_palette()[x] for x in filtered_no_na.dropna().Screen.map({\"PD_Screen\":0, \"ASD_Screen\":1, \"Glia_Genes_Screen\":2, \"G-Proteins_Screen\":3, \"Neuron_Genes_Screen\":4})],\n",
    "    )\n",
    "plt.legend(loc=\"upper left\")\n",
    "plt.gca().set_aspect('equal', 'datalim')\n",
    "plt.title('UMAP projection of the MWT dataset', fontsize=24);"
   ]
  },
  {
   "cell_type": "code",
   "execution_count": null,
   "id": "7ddeb931-0f03-4f56-aec7-dd85748adf92",
   "metadata": {},
   "outputs": [],
   "source": [
    "import matplotlib.pyplot as plt\n",
    "plt.scatter(\n",
    "    filtered_u[:, 0],\n",
    "    filtered_u[:, 1],\n",
    "    c=[sns.color_palette()[x] for x in filtered.dropna().Screen.map({\"PD_Screen\":0, \"ASD_Screen\":1, \"Glia_Genes_Screen\":2})])\n",
    "plt.gca().set_aspect('equal', 'datalim')\n",
    "plt.title('UMAP projection of the MWT dataset', fontsize=24);"
   ]
  },
  {
   "cell_type": "code",
   "execution_count": null,
   "id": "036c0fd2-c463-4163-9cf1-b4d3ab65d547",
   "metadata": {},
   "outputs": [],
   "source": []
  }
 ],
 "metadata": {
  "kernelspec": {
   "display_name": "Python 3 (ipykernel)",
   "language": "python",
   "name": "python3"
  },
  "language_info": {
   "codemirror_mode": {
    "name": "ipython",
    "version": 3
   },
   "file_extension": ".py",
   "mimetype": "text/x-python",
   "name": "python",
   "nbconvert_exporter": "python",
   "pygments_lexer": "ipython3",
   "version": "3.11.1"
  }
 },
 "nbformat": 4,
 "nbformat_minor": 5
}
