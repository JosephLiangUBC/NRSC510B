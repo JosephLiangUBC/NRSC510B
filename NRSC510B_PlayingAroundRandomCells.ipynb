{
 "cells": [
  {
   "cell_type": "code",
   "execution_count": 3,
   "id": "aaaf3cc6-37e8-43e4-a57e-d9f3d868ca68",
   "metadata": {},
   "outputs": [],
   "source": [
    "import sqlite3\n",
    "from sqlite3 import Error\n",
    "from sqlite3 import IntegrityError\n",
    "from ipyfilechooser import FileChooser\n",
    "import pandas as pd\n",
    "import io\n",
    "import requests"
   ]
  },
  {
   "cell_type": "code",
   "execution_count": 4,
   "id": "d047872c-f454-4b21-ae5f-fbe76ded5a3b",
   "metadata": {},
   "outputs": [
    {
     "data": {
      "application/vnd.jupyter.widget-view+json": {
       "model_id": "a0bf12dff4c348daad1ad6322d45eb0c",
       "version_major": 2,
       "version_minor": 0
      },
      "text/plain": [
       "FileChooser(path='/Users/Joseph', filename='', title='', show_hidden=False, select_desc='Select', change_desc=…"
      ]
     },
     "metadata": {},
     "output_type": "display_data"
    }
   ],
   "source": [
    "starting_directory = '/Users/Joseph'\n",
    "chooser = FileChooser(starting_directory)\n",
    "display(chooser)"
   ]
  },
  {
   "cell_type": "code",
   "execution_count": 13,
   "id": "5ad41b49-c54a-41bc-b2a4-12865e70cb27",
   "metadata": {},
   "outputs": [
    {
     "name": "stdout",
     "output_type": "stream",
     "text": [
      "/Users/Joseph/Desktop/ScreenData/ASDMaster.csv\n",
      "/Users/Joseph/Desktop/ScreenData\n"
     ]
    }
   ],
   "source": [
    "file=chooser.selected\n",
    "folder_path=chooser.selected_path\n",
    "print(file)\n",
    "print(folder_path)"
   ]
  },
  {
   "cell_type": "code",
   "execution_count": 17,
   "id": "66abb924-f1af-4cdd-b99a-f59d9255da5c",
   "metadata": {},
   "outputs": [
    {
     "name": "stdout",
     "output_type": "stream",
     "text": [
      "         time  Taps  dura   dist      prob     speed  plate   Gene  Allele  \\\n",
      "0     599.988     1  3.27  0.576  0.846154  0.176147      1  cnt-2  ok1767   \n",
      "1     609.991     2  2.59  0.417  0.714286  0.161004      1  cnt-2  ok1767   \n",
      "2     619.990     3  1.74  0.254  0.533333  0.145977      1  cnt-2  ok1767   \n",
      "3     629.990     4  1.78  0.375  0.800000  0.210674      1  cnt-2  ok1767   \n",
      "4     639.990     5  1.89  0.356  0.500000  0.188360      1  cnt-2  ok1767   \n",
      "..        ...   ...   ...    ...       ...       ...    ...    ...     ...   \n",
      "150   859.991    27  1.23  0.176  0.262295  0.143089      5  bra-1     nk1   \n",
      "151   869.991    28  1.18  0.140  0.283333  0.118644      5  bra-1     nk1   \n",
      "152   879.949    29  1.38  0.195  0.344828  0.141304      5  bra-1     nk1   \n",
      "153   889.995    30  1.63  0.189  0.229508  0.115951      5  bra-1     nk1   \n",
      "154  1189.950    31  1.22  0.226  0.350000  0.185246      5  bra-1     nk1   \n",
      "\n",
      "    Screen  \n",
      "0      ASD  \n",
      "1      ASD  \n",
      "2      ASD  \n",
      "3      ASD  \n",
      "4      ASD  \n",
      "..     ...  \n",
      "150    ASD  \n",
      "151    ASD  \n",
      "152    ASD  \n",
      "153    ASD  \n",
      "154    ASD  \n",
      "\n",
      "[24377 rows x 10 columns]\n",
      "99\n",
      "['cnt-2' 'hcp-1' 'aps-2' 'unc-4' 'bcl-11' 'egl-19' 'unc-2' 'cca-1'\n",
      " 'unc-36' 'cdkl-1' 'unc-75' 'chd-1' 'chd-7' 'cls-3' 'cor-1' 'cbp-1'\n",
      " 'bar-1' 'hmp-2' 'jac-1' 'dhcr-7' 'dip-2' 'dys-1' 'mrck-1' 'dhp-1'\n",
      " 'igcm-1' 'vab-10' 'dhc-1' 'mbk-1' 'set-11' 'exc-7' 'cdh-4' 'cdh-1'\n",
      " 'fkh-7' 'gab-1' 'rme-6' 'C18H9.3' 'gpa-16' 'glr-1' 'glr-2' 'nmr-2'\n",
      " 'had-4' 'tag-260' 'pcaf-1' 'irk-3' 'slo-1' 'kqt-1' 'rbr-2' 'jmjd-3.3'\n",
      " 'set-16' 'lron-8' 'let-19' 'F11E6.8' 'irx-1' 'magu-3' 'ztf-11' 'N2'\n",
      " 'gex-3' 'nlg-1' 'nrx-1' 'met-1' 'epi-1' 'pax-2' 'npax-2' 'jmjd-1.1'\n",
      " 'row-1' 'nab-1' 'pptr-2' 'pph-5' 'dkf-1' 'daf-6' 'ptr-10' 'ptr-6'\n",
      " 'daf-18' 'unc-10' 'mtm-5' 'set-24' 'set-9' 'shn-1' 'sin-3' 'snf-11'\n",
      " 'nhx-5' 'unc-16' 'spas-1' 'unc-18' 'set-4' 'anc-1' 'gap-2' 'tbx-38'\n",
      " 'pop-1' 'R151.1' 'ZK858.6' 'hgap-1' 'ubr-4' 'smg-4' 'math-33' 'M03D4.4'\n",
      " 'C25H3.11' 'ztf-6' 'bra-1']\n",
      "137\n",
      "['ok1767' 'gk237614' 'tm2752' 'e120' 'gk705' 'tm522' 'n582' 'e55' 'gk366'\n",
      " 'ad1650' 'ad698' 'e251' 'ok2694' 'e950' 'tm9711' 'ok2798' 'gk306'\n",
      " 'ok3375' 'tm5775' 'ok869' 'ku258' 'ga80' 'mu63' 'qm39' 'ok3000' 'tm6473'\n",
      " 'ok885' 'cx18' 'ok586' 'tm1072' 'ok711' 'e698' 'gk45' 'ie28' 'pk1389'\n",
      " 'n4488' 'ok370' 'rh252' 'hd40' 'ok1323' 'gk747' 'gk793' 'gk189051'\n",
      " 'tm3577' 'b1014' 'tm6649' 'tm4671' 'ok2349' 'n2461' 'ok2342' 'ok3324'\n",
      " 'ok518' 'ok1339' 'tm3318' 'gk542081' 'tm7416' 'eg142' 'gk602291' 'js118'\n",
      " 'js379' 'tm8384' 'tm846' 'ok2544' 'tm3104' 'tm3197' 'gk190875' 'tm8188'\n",
      " 'gk149538' 'ok2754' 'tm238' 'ok533' 'ok646' 'N2' 'zu196' 'ok259' 'ds1'\n",
      " 'ok1649' 'gk510' 'n4337' 'ok2172' 'gm57' 'ok3078' 'ok935' 'ok948'\n",
      " 'tm2107' 'hc184' 'tm556' 'gk164' 'ok943' 'ok1573' 'ok3498' 'ok2695'\n",
      " 'e1377' 'ok2106' 'ok2988' 'e1375' 'ok480' 'e102' 'md1117' 'ok469' 'n4909'\n",
      " 'n4949' 'gk181' 'ok1241' 'tm1276' 'ok156' 'ok661' 'e109' 'n370' 'ok1608'\n",
      " 'tm683' 'e234' 'e81' 'md299' 'ok1481' 'e1753' 'e1802' 'ok1001' 'tm748'\n",
      " 'gk186909' 'tm581' 'tm6676' 'ok2347' 'ok2364' 'ok2921' 'gk101481'\n",
      " 'gk109613' 'tm3968' 'gk244058' 'tm5409' 'tm6724' 'tm10242' 'tm559'\n",
      " 'gk425293' 'gk122271' 'tm1803' 'nk1']\n"
     ]
    }
   ],
   "source": [
    "ASD_tap=pd.read_csv(file, index_col=0)\n",
    "print(ASD_tap)\n",
    "print(len(ASD_tap.Gene.unique()))\n",
    "print(ASD_tap.Gene.unique())\n",
    "print(len(ASD_tap.Allele.unique()))\n",
    "print(ASD_tap.Allele.unique())"
   ]
  },
  {
   "cell_type": "code",
   "execution_count": 7,
   "id": "8bdae795-4e5b-4371-acd2-40d77be2796a",
   "metadata": {},
   "outputs": [
    {
     "name": "stdout",
     "output_type": "stream",
     "text": [
      "           Time   n  Number  Instantaneous Speed  Interval Speed   Bias  Tap  \\\n",
      "0         0.006  68       0               0.0000          0.0000  0.000    0   \n",
      "1         0.058  72       0               0.0000          0.0000  0.000    0   \n",
      "2         0.120  78       0               0.0000          0.0000  0.000    0   \n",
      "3         0.162  81       0               0.0000          0.0000  0.000    0   \n",
      "4         0.226  81       0               0.0000          0.0000  0.000    0   \n",
      "...         ...  ..     ...                  ...             ...    ...  ...   \n",
      "80052  1199.893  52      28               0.1992          0.1135  0.545    0   \n",
      "80053  1199.950  51      28               0.1832          0.1068  0.000    0   \n",
      "80054  1199.991  51      28               0.0000          0.0000  0.000    0   \n",
      "80055  1200.034  51      28               0.0000          0.0000  0.000    0   \n",
      "80056  1200.075  51      28               0.0000          0.0000  0.000    0   \n",
      "\n",
      "       Puff        x        y  ...      Area  Angular Speed  Aspect Ratio  \\\n",
      "0         0   0.0000   0.0000  ...  0.000000            0.0         0.000   \n",
      "1         0   0.0000   0.0000  ...  0.000000            0.0         0.000   \n",
      "2         0   0.0000   0.0000  ...  0.000000            0.0         0.000   \n",
      "3         0   0.0000   0.0000  ...  0.000000            0.0         0.000   \n",
      "4         0   0.0000   0.0000  ...  0.000000            0.0         0.000   \n",
      "...     ...      ...      ...  ...       ...            ...           ...   \n",
      "80052     0  26.3854  31.0040  ...  0.119712            8.8         0.241   \n",
      "80053     0  26.3865  31.0040  ...  0.122342            8.2         0.253   \n",
      "80054     0  26.3872  31.0035  ...  0.125596            0.0         0.251   \n",
      "80055     0  26.3874  31.0041  ...  0.123357            0.0         0.248   \n",
      "80056     0  26.3873  31.0040  ...  0.121379            0.0         0.249   \n",
      "\n",
      "       Kink  Curve    Crab  plate       dataset   Gene  Allele  \n",
      "0       0.0    0.0  0.0000      0  set-2_ok1484  set-2  ok1484  \n",
      "1       0.0    0.0  0.0000      0  set-2_ok1484  set-2  ok1484  \n",
      "2       0.0    0.0  0.0000      0  set-2_ok1484  set-2  ok1484  \n",
      "3       0.0    0.0  0.0000      0  set-2_ok1484  set-2  ok1484  \n",
      "4       0.0    0.0  0.0000      0  set-2_ok1484  set-2  ok1484  \n",
      "...     ...    ...     ...    ...           ...    ...     ...  \n",
      "80052  40.5   23.9  0.0134      0  dop-3_tm1356  dop-3  tm1356  \n",
      "80053  40.8   23.4  0.0158      0  dop-3_tm1356  dop-3  tm1356  \n",
      "80054  40.7   23.4  0.0000      0  dop-3_tm1356  dop-3  tm1356  \n",
      "80055  40.4   23.8  0.0000      0  dop-3_tm1356  dop-3  tm1356  \n",
      "80056  39.9   23.8  0.0000      0  dop-3_tm1356  dop-3  tm1356  \n",
      "\n",
      "[13290439 rows x 22 columns]\n"
     ]
    }
   ],
   "source": [
    "baseline_output = pd.read_csv(file, index_col=0)\n",
    "print(baseline_output)"
   ]
  },
  {
   "cell_type": "code",
   "execution_count": 8,
   "id": "a3581dfb-50a2-41f2-87d2-5ca53439c229",
   "metadata": {},
   "outputs": [
    {
     "name": "stdout",
     "output_type": "stream",
     "text": [
      "          Time    n  Number  Instantaneous Speed  Interval Speed   Bias  Tap  \\\n",
      "3969   350.055  157      83               0.1114          0.0899  0.654    0   \n",
      "3970   350.202  156      82               0.1180          0.0942  0.688    0   \n",
      "3971   350.314  156      82               0.1324          0.1029  0.663    0   \n",
      "3972   350.396  156      82               0.1265          0.0939  0.637    0   \n",
      "3973   350.476  155      82               0.1332          0.0998  0.625    0   \n",
      "...        ...  ...     ...                  ...             ...    ...  ...   \n",
      "66298  359.680   84      47               0.0911          0.1051  0.435    0   \n",
      "66299  359.760   84      47               0.0886          0.1044  0.391    0   \n",
      "66300  359.843   84      47               0.0920          0.1116  0.391    0   \n",
      "66301  359.918   84      47               0.0805          0.0908  0.391    0   \n",
      "66302  359.993   84      47               0.0803          0.0796  0.391    0   \n",
      "\n",
      "       Puff        x        y  ...      Area  Angular Speed  Aspect Ratio  \\\n",
      "3969      0  22.7361  30.0410  ...  0.112793            6.2         0.280   \n",
      "3970      0  22.4732  29.8259  ...  0.108665            6.4         0.277   \n",
      "3971      0  22.4739  29.8276  ...  0.110630            7.2         0.283   \n",
      "3972      0  22.4739  29.8281  ...  0.109270            7.3         0.284   \n",
      "3973      0  22.4751  29.8285  ...  0.112168            7.9         0.278   \n",
      "...     ...      ...      ...  ...       ...            ...           ...   \n",
      "66298     0  23.8703  29.8696  ...  0.118858            6.8         0.244   \n",
      "66299     0  23.8727  29.8687  ...  0.125729            6.7         0.237   \n",
      "66300     0  23.8755  29.8687  ...  0.122084            6.4         0.238   \n",
      "66301     0  23.8779  29.8685  ...  0.118532            5.5         0.234   \n",
      "66302     0  23.8795  29.8689  ...  0.124675            5.8         0.231   \n",
      "\n",
      "       Kink  Curve    Crab  plate       dataset   Gene  Allele  \n",
      "3969   41.8   25.7  0.0109      0  set-2_ok1484  set-2  ok1484  \n",
      "3970   40.4   25.7  0.0112      0  set-2_ok1484  set-2  ok1484  \n",
      "3971   42.0   26.3  0.0113      0  set-2_ok1484  set-2  ok1484  \n",
      "3972   41.7   26.5  0.0116      0  set-2_ok1484  set-2  ok1484  \n",
      "3973   43.4   26.8  0.0125      0  set-2_ok1484  set-2  ok1484  \n",
      "...     ...    ...     ...    ...           ...    ...     ...  \n",
      "66298  33.6   23.4  0.0094      0  dop-3_tm1356  dop-3  tm1356  \n",
      "66299  31.4   23.2  0.0079      0  dop-3_tm1356  dop-3  tm1356  \n",
      "66300  33.9   23.7  0.0073      0  dop-3_tm1356  dop-3  tm1356  \n",
      "66301  33.3   24.0  0.0062      0  dop-3_tm1356  dop-3  tm1356  \n",
      "66302  35.2   24.2  0.0064      0  dop-3_tm1356  dop-3  tm1356  \n",
      "\n",
      "[111631 rows x 22 columns]\n"
     ]
    }
   ],
   "source": [
    "start = 350 #<----- set the start time of the range\n",
    "point = 360 #<------- set the end time of your range\n",
    "chunkeddata0 = baseline_output[baseline_output[\"Time\"] >= start]\n",
    "chunkeddata = chunkeddata0[chunkeddata0[\"Time\"] <= point]\n",
    "print(chunkeddata)"
   ]
  },
  {
   "cell_type": "code",
   "execution_count": 9,
   "id": "e04b0111-fe78-42fd-a437-cf6fba4d9751",
   "metadata": {},
   "outputs": [],
   "source": [
    "chunkeddata.to_csv('/Users/Joseph/Desktop/NRSC510B/sample_baseline_output.csv')"
   ]
  },
  {
   "cell_type": "code",
   "execution_count": 10,
   "id": "33cd988a-0fe1-48b3-9296-ec3d24c04f62",
   "metadata": {},
   "outputs": [
    {
     "name": "stdout",
     "output_type": "stream",
     "text": [
      "         time  dura   dist      prob     speed  plate  taps         dataset  \\\n",
      "0     599.959  3.21  0.581  0.803922  0.180997      1   1.0  F32D8.13_gk584   \n",
      "1     609.960  2.54  0.509  0.648148  0.200394      1   2.0  F32D8.13_gk584   \n",
      "2     619.914  1.84  0.409  0.750000  0.222283      1   3.0  F32D8.13_gk584   \n",
      "3     629.897  1.73  0.364  0.474576  0.210405      1   4.0  F32D8.13_gk584   \n",
      "4     639.989  1.21  0.247  0.536232  0.204132      1   5.0  F32D8.13_gk584   \n",
      "..        ...   ...    ...       ...       ...    ...   ...             ...   \n",
      "334   859.979  0.79  0.163  0.450000  0.206329     11  27.0   vps-35_ok1880   \n",
      "335   869.983  1.04  0.203  0.350877  0.195192     11  28.0   vps-35_ok1880   \n",
      "336   879.979  0.82  0.163  0.456140  0.198780     11  29.0   vps-35_ok1880   \n",
      "337   889.911  0.72  0.133  0.415094  0.184722     11  30.0   vps-35_ok1880   \n",
      "338  1189.993  3.23  0.687  0.583333  0.212693     11  31.0   vps-35_ok1880   \n",
      "\n",
      "         Gene  Allele  \n",
      "0    F32D8.13   gk584  \n",
      "1    F32D8.13   gk584  \n",
      "2    F32D8.13   gk584  \n",
      "3    F32D8.13   gk584  \n",
      "4    F32D8.13   gk584  \n",
      "..        ...     ...  \n",
      "334    vps-35  ok1880  \n",
      "335    vps-35  ok1880  \n",
      "336    vps-35  ok1880  \n",
      "337    vps-35  ok1880  \n",
      "338    vps-35  ok1880  \n",
      "\n",
      "[20499 rows x 10 columns]\n"
     ]
    }
   ],
   "source": [
    "# tap_url = 'https://osf.io/du9bj/files/osfstorage/650a2f9f1e76a4230e8a99a5?raw=true'\n",
    "tap_url='https://github.com/MyYummyPancake/NRSC510B/blob/main/tap_output.csv?raw=true'\n",
    "# s=requests.get(tap_url).content\n",
    "# tap_output=pd.read_csv(io.StringIO(s.decode('utf-8')))\n",
    "tap_output=pd.read_csv(tap_url, on_bad_lines='skip', index_col=0)\n",
    "print(tap_output)"
   ]
  },
  {
   "cell_type": "code",
   "execution_count": 18,
   "id": "f7611f10-536b-4cd4-a402-01aa76c5af69",
   "metadata": {},
   "outputs": [],
   "source": [
    "def create_connection(db_file):\n",
    "    \"\"\" create a database connection to a SQLite database \"\"\"\n",
    "    conn = None\n",
    "    try:\n",
    "        conn = sqlite3.connect(db_file)\n",
    "        print(sqlite3.version)\n",
    "    except Error as e:\n",
    "        print(e)\n",
    "    finally:\n",
    "        if conn:\n",
    "            conn.close()\n"
   ]
  },
  {
   "cell_type": "code",
   "execution_count": null,
   "id": "e10398c8-2680-4ce2-a39a-d348d8246943",
   "metadata": {},
   "outputs": [],
   "source": [
    "# Function for basic data validation\n",
    "def validate_data(df):\n",
    "    # Define expected data types\n",
    "    expected_dtypes = {\n",
    "        'Unnamed: 0': 'int64',\n",
    "        'time': 'float64',\n",
    "        'dura': 'float64',\n",
    "        'dist': 'float64',\n",
    "        'prob': 'float64',\n",
    "        'speed': 'float64',\n",
    "        'plate': 'int64',\n",
    "        'taps': 'float64',\n",
    "        'dataset': 'object',\n",
    "        'Gene': 'object',\n",
    "        'Allele': 'object'\n",
    "    }\n",
    "    \n",
    "    # Type validation\n",
    "    for col, expected_dtype in expected_dtypes.items():\n",
    "        if df[col].dtype != expected_dtype:\n",
    "            return False, f\"Column {col} has incorrect data type {df[col].dtype}. Expected {expected_dtype}.\"\n",
    "    \n",
    "    # Range validation for specific columns\n",
    "    if df['prob'].min() < 0 or df['prob'].max() > 1:\n",
    "        return False, \"Column 'prob' has values outside the range [0, 1].\"\n",
    "    \n",
    "    return True, \"Data is valid.\""
   ]
  },
  {
   "cell_type": "code",
   "execution_count": null,
   "id": "b65df115-ff9a-4ad1-811f-df33002845cf",
   "metadata": {},
   "outputs": [],
   "source": [
    "is_valid, validation_message = validate_data(df)\n",
    "if is_valid:\n",
    "    # Create SQLite database and insert data\n",
    "    try:\n",
    "        conn = sqlite3.connect('c_elegans_data.db')\n",
    "        df.to_sql('experiment_data', conn, if_exists='replace', index=False)\n",
    "        etl_status = \"Data successfully inserted into SQLite database.\"\n",
    "    except IntegrityError as e:\n",
    "        etl_status = f\"Data insertion failed: {e}\"\n",
    "else:\n",
    "    etl_status = f\"Data validation failed: {validation_message}\"\n",
    "\n",
    "print(etl_status)"
   ]
  },
  {
   "cell_type": "code",
   "execution_count": 11,
   "id": "5d33c616-2839-4572-af70-233af783302a",
   "metadata": {},
   "outputs": [
    {
     "data": {
      "text/plain": [
       "13290439"
      ]
     },
     "execution_count": 11,
     "metadata": {},
     "output_type": "execute_result"
    }
   ],
   "source": [
    "conn=sqlite3.connect('/Users/Joseph/Desktop/NRSC510B/mwt_tap_data.db')\n",
    "tap_output.to_sql('tap_response_data', conn, if_exists='replace', index=False)\n",
    "baseline_output.to_sql('tap_baseline_data', conn, if_exists='replace', index=False)"
   ]
  },
  {
   "cell_type": "code",
   "execution_count": 12,
   "id": "384b4a14-33d0-4c78-ad5a-215d649a3c50",
   "metadata": {},
   "outputs": [],
   "source": [
    "conn.close()"
   ]
  },
  {
   "cell_type": "code",
   "execution_count": null,
   "id": "21c07dbc-21ba-44ad-a272-d790d6629eb1",
   "metadata": {},
   "outputs": [],
   "source": []
  },
  {
   "cell_type": "code",
   "execution_count": null,
   "id": "b76c3485-f5fd-475e-ad6c-757e0eda810e",
   "metadata": {},
   "outputs": [],
   "source": []
  },
  {
   "cell_type": "code",
   "execution_count": null,
   "id": "eef79c93-3f50-4bb2-abdb-09e74ac6ea5e",
   "metadata": {},
   "outputs": [],
   "source": []
  },
  {
   "cell_type": "code",
   "execution_count": null,
   "id": "79bb657e-8fb0-4085-b59f-f4676282be5f",
   "metadata": {},
   "outputs": [],
   "source": []
  }
 ],
 "metadata": {
  "kernelspec": {
   "display_name": "Python 3 (ipykernel)",
   "language": "python",
   "name": "python3"
  },
  "language_info": {
   "codemirror_mode": {
    "name": "ipython",
    "version": 3
   },
   "file_extension": ".py",
   "mimetype": "text/x-python",
   "name": "python",
   "nbconvert_exporter": "python",
   "pygments_lexer": "ipython3",
   "version": "3.11.1"
  }
 },
 "nbformat": 4,
 "nbformat_minor": 5
}
